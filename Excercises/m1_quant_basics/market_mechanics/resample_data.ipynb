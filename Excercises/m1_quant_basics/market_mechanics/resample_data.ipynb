{
 "cells": [
  {
   "cell_type": "markdown",
   "metadata": {},
   "source": [
    "# Resample Data\n",
    "## Pandas Resample\n",
    "You've learned about bucketing to different periods of time like Months. Let's see how it's done. We'll start with an example series of days."
   ]
  },
  {
   "cell_type": "code",
   "execution_count": 1,
   "metadata": {},
   "outputs": [
    {
     "data": {
      "text/plain": [
       "2018-10-10     0\n",
       "2018-10-11     1\n",
       "2018-10-12     2\n",
       "2018-10-13     3\n",
       "2018-10-14     4\n",
       "2018-10-15     5\n",
       "2018-10-16     6\n",
       "2018-10-17     7\n",
       "2018-10-18     8\n",
       "2018-10-19     9\n",
       "2018-10-20    10\n",
       "Freq: D, dtype: int64"
      ]
     },
     "execution_count": 1,
     "metadata": {},
     "output_type": "execute_result"
    }
   ],
   "source": [
    "import numpy as np\n",
    "import pandas as pd\n",
    "\n",
    "dates = pd.date_range('10/10/2018', periods=11, freq='D')\n",
    "close_prices = np.arange(len(dates))\n",
    "\n",
    "close = pd.Series(close_prices, dates)\n",
    "close"
   ]
  },
  {
   "cell_type": "markdown",
   "metadata": {},
   "source": [
    "Let's say we want to bucket these days into 3 day periods. To do that, we'll use the [DataFrame.resample](https://pandas.pydata.org/pandas-docs/version/0.21/generated/pandas.DataFrame.resample.html) function. The first parameter in this function is a string called `rule`, which is a representation of how to resample the data. This string representation is made using an offset alias. You can find a list of them [here](http://pandas.pydata.org/pandas-docs/stable/timeseries.html#offset-aliases). To create 3 day periods, we'll set `rule` to \"3D\"."
   ]
  },
  {
   "cell_type": "code",
   "execution_count": 2,
   "metadata": {},
   "outputs": [
    {
     "data": {
      "text/plain": [
       "DatetimeIndexResampler [freq=<3 * Days>, axis=0, closed=left, label=left, convention=start, base=0]"
      ]
     },
     "execution_count": 2,
     "metadata": {},
     "output_type": "execute_result"
    }
   ],
   "source": [
    "close.resample('3D')"
   ]
  },
  {
   "cell_type": "markdown",
   "metadata": {},
   "source": [
    "This returns a `DatetimeIndexResampler` object. It's an intermediate object similar to the `GroupBy` object. Just like group by, it breaks the original data into groups. That means, we'll have to apply an operation to these groups. Let's make it simple and get the first element from each group."
   ]
  },
  {
   "cell_type": "code",
   "execution_count": 3,
   "metadata": {},
   "outputs": [
    {
     "data": {
      "text/plain": [
       "2018-10-10    0\n",
       "2018-10-13    3\n",
       "2018-10-16    6\n",
       "2018-10-19    9\n",
       "dtype: int64"
      ]
     },
     "execution_count": 3,
     "metadata": {},
     "output_type": "execute_result"
    }
   ],
   "source": [
    "close.resample('3D').first()"
   ]
  },
  {
   "cell_type": "markdown",
   "metadata": {},
   "source": [
    "You might notice that this is the same as `.iloc[::3]`"
   ]
  },
  {
   "cell_type": "code",
   "execution_count": 4,
   "metadata": {},
   "outputs": [
    {
     "data": {
      "text/plain": [
       "2018-10-10    0\n",
       "2018-10-13    3\n",
       "2018-10-16    6\n",
       "2018-10-19    9\n",
       "Freq: 3D, dtype: int64"
      ]
     },
     "execution_count": 4,
     "metadata": {},
     "output_type": "execute_result"
    }
   ],
   "source": [
    "close.iloc[::3]"
   ]
  },
  {
   "cell_type": "markdown",
   "metadata": {},
   "source": [
    "So, why use the `resample` function instead of `.iloc[::3]` or the `groupby` function?\n",
    "\n",
    "The `resample` function shines when handling time and/or date specific tasks. In fact, you can't use this function if the index isn't a [time-related class](https://pandas.pydata.org/pandas-docs/version/0.21/timeseries.html#overview)."
   ]
  },
  {
   "cell_type": "code",
   "execution_count": 5,
   "metadata": {},
   "outputs": [
    {
     "name": "stdout",
     "output_type": "stream",
     "text": [
      "It threw a TypeError.\n"
     ]
    }
   ],
   "source": [
    "try:\n",
    "    # Attempt resample on a series without a time index\n",
    "    pd.Series(close_prices).resample('W')\n",
    "except TypeError:\n",
    "    print('It threw a TypeError.')\n",
    "else:\n",
    "    print('It worked.')"
   ]
  },
  {
   "cell_type": "markdown",
   "metadata": {},
   "source": [
    "One of the resampling tasks it can help with is resampling on periods, like weeks. Let's resample `close` from it's days frequency to weeks. We'll use the \"W\" offset allies, which stands for Weeks."
   ]
  },
  {
   "cell_type": "code",
   "execution_count": 6,
   "metadata": {},
   "outputs": [
    {
     "data": {
      "text/html": [
       "<div>\n",
       "<style scoped>\n",
       "    .dataframe tbody tr th:only-of-type {\n",
       "        vertical-align: middle;\n",
       "    }\n",
       "\n",
       "    .dataframe tbody tr th {\n",
       "        vertical-align: top;\n",
       "    }\n",
       "\n",
       "    .dataframe thead th {\n",
       "        text-align: right;\n",
       "    }\n",
       "</style>\n",
       "<table border=\"1\" class=\"dataframe\">\n",
       "  <thead>\n",
       "    <tr style=\"text-align: right;\">\n",
       "      <th></th>\n",
       "      <th>days</th>\n",
       "      <th>weeks</th>\n",
       "    </tr>\n",
       "  </thead>\n",
       "  <tbody>\n",
       "    <tr>\n",
       "      <th>2018-10-10</th>\n",
       "      <td>0.0</td>\n",
       "      <td>NaN</td>\n",
       "    </tr>\n",
       "    <tr>\n",
       "      <th>2018-10-11</th>\n",
       "      <td>1.0</td>\n",
       "      <td>NaN</td>\n",
       "    </tr>\n",
       "    <tr>\n",
       "      <th>2018-10-12</th>\n",
       "      <td>2.0</td>\n",
       "      <td>NaN</td>\n",
       "    </tr>\n",
       "    <tr>\n",
       "      <th>2018-10-13</th>\n",
       "      <td>3.0</td>\n",
       "      <td>NaN</td>\n",
       "    </tr>\n",
       "    <tr>\n",
       "      <th>2018-10-14</th>\n",
       "      <td>4.0</td>\n",
       "      <td>0.0</td>\n",
       "    </tr>\n",
       "    <tr>\n",
       "      <th>2018-10-15</th>\n",
       "      <td>5.0</td>\n",
       "      <td>NaN</td>\n",
       "    </tr>\n",
       "    <tr>\n",
       "      <th>2018-10-16</th>\n",
       "      <td>6.0</td>\n",
       "      <td>NaN</td>\n",
       "    </tr>\n",
       "    <tr>\n",
       "      <th>2018-10-17</th>\n",
       "      <td>7.0</td>\n",
       "      <td>NaN</td>\n",
       "    </tr>\n",
       "    <tr>\n",
       "      <th>2018-10-18</th>\n",
       "      <td>8.0</td>\n",
       "      <td>NaN</td>\n",
       "    </tr>\n",
       "    <tr>\n",
       "      <th>2018-10-19</th>\n",
       "      <td>9.0</td>\n",
       "      <td>NaN</td>\n",
       "    </tr>\n",
       "    <tr>\n",
       "      <th>2018-10-20</th>\n",
       "      <td>10.0</td>\n",
       "      <td>NaN</td>\n",
       "    </tr>\n",
       "    <tr>\n",
       "      <th>2018-10-21</th>\n",
       "      <td>NaN</td>\n",
       "      <td>5.0</td>\n",
       "    </tr>\n",
       "  </tbody>\n",
       "</table>\n",
       "</div>"
      ],
      "text/plain": [
       "            days  weeks\n",
       "2018-10-10   0.0    NaN\n",
       "2018-10-11   1.0    NaN\n",
       "2018-10-12   2.0    NaN\n",
       "2018-10-13   3.0    NaN\n",
       "2018-10-14   4.0    0.0\n",
       "2018-10-15   5.0    NaN\n",
       "2018-10-16   6.0    NaN\n",
       "2018-10-17   7.0    NaN\n",
       "2018-10-18   8.0    NaN\n",
       "2018-10-19   9.0    NaN\n",
       "2018-10-20  10.0    NaN\n",
       "2018-10-21   NaN    5.0"
      ]
     },
     "execution_count": 6,
     "metadata": {},
     "output_type": "execute_result"
    }
   ],
   "source": [
    "pd.DataFrame({\n",
    "    'days': close,\n",
    "    'weeks': close.resample('W').first()})"
   ]
  },
  {
   "cell_type": "markdown",
   "metadata": {},
   "source": [
    "The weeks offset considers the start of a week on a Monday. Since 2018-10-10 is a Wednesday, the first group only looks at the first 5 items. There are offsets that handle more complicated problems like filtering for Holidays. For now, we'll only worry about resampling for days, weeks, months, quarters, and years. The frequency you want the data to be in, will depend on how often you'll be trading. If you're making trade decisions based on reports that come out at the end of the year, we might only care about a frequency of years or months.\n",
    "## OHLC\n",
    "Now that you've seen how Pandas resamples time series data, we can apply this to Open, High, Low, and Close (OHLC). Pandas provides the [`Resampler.ohlc`](https://pandas.pydata.org/pandas-docs/version/0.21.0/generated/pandas.core.resample.Resampler.ohlc.html#pandas.core.resample.Resampler.ohlc) function will convert any resampling frequency to OHLC data. Let's get the Weekly OHLC."
   ]
  },
  {
   "cell_type": "code",
   "execution_count": 7,
   "metadata": {},
   "outputs": [
    {
     "data": {
      "text/html": [
       "<div>\n",
       "<style scoped>\n",
       "    .dataframe tbody tr th:only-of-type {\n",
       "        vertical-align: middle;\n",
       "    }\n",
       "\n",
       "    .dataframe tbody tr th {\n",
       "        vertical-align: top;\n",
       "    }\n",
       "\n",
       "    .dataframe thead th {\n",
       "        text-align: right;\n",
       "    }\n",
       "</style>\n",
       "<table border=\"1\" class=\"dataframe\">\n",
       "  <thead>\n",
       "    <tr style=\"text-align: right;\">\n",
       "      <th></th>\n",
       "      <th>open</th>\n",
       "      <th>high</th>\n",
       "      <th>low</th>\n",
       "      <th>close</th>\n",
       "    </tr>\n",
       "  </thead>\n",
       "  <tbody>\n",
       "    <tr>\n",
       "      <th>2018-10-14</th>\n",
       "      <td>0</td>\n",
       "      <td>4</td>\n",
       "      <td>0</td>\n",
       "      <td>4</td>\n",
       "    </tr>\n",
       "    <tr>\n",
       "      <th>2018-10-21</th>\n",
       "      <td>5</td>\n",
       "      <td>10</td>\n",
       "      <td>5</td>\n",
       "      <td>10</td>\n",
       "    </tr>\n",
       "  </tbody>\n",
       "</table>\n",
       "</div>"
      ],
      "text/plain": [
       "            open  high  low  close\n",
       "2018-10-14     0     4    0      4\n",
       "2018-10-21     5    10    5     10"
      ]
     },
     "execution_count": 7,
     "metadata": {},
     "output_type": "execute_result"
    }
   ],
   "source": [
    "close.resample('W').ohlc()"
   ]
  },
  {
   "cell_type": "markdown",
   "metadata": {},
   "source": [
    "Can you spot a potential problem with that? It has to do with resampling data that has already been resampled.\n",
    "\n",
    "We're getting the OHLC from close data. If we want OHLC data from already resampled data, we should resample the first price from the open data, resample the highest price from the high data, etc..\n",
    "\n",
    "To get the weekly closing prices from `close`, you can use the [`Resampler.last`](https://pandas.pydata.org/pandas-docs/version/0.21.0/generated/pandas.core.resample.Resampler.last.html#pandas.core.resample.Resampler.last) function."
   ]
  },
  {
   "cell_type": "code",
   "execution_count": 8,
   "metadata": {},
   "outputs": [
    {
     "data": {
      "text/plain": [
       "2018-10-14     4\n",
       "2018-10-21    10\n",
       "Freq: W-SUN, dtype: int64"
      ]
     },
     "execution_count": 8,
     "metadata": {},
     "output_type": "execute_result"
    }
   ],
   "source": [
    "close.resample('W').last()"
   ]
  },
  {
   "cell_type": "markdown",
   "metadata": {},
   "source": [
    "## Quiz\n",
    "Implement `days_to_weeks` function to resample OHLC price data to weekly OHLC price data. You find find more Resampler functions [here](https://pandas.pydata.org/pandas-docs/version/0.21.0/api.html#id44) for calculating high and low prices."
   ]
  },
  {
   "cell_type": "code",
   "execution_count": 9,
   "metadata": {},
   "outputs": [
    {
     "ename": "AssertionError",
     "evalue": "Wrong value for days_to_weeks.\n\nINPUT open_prices:\n            GCZG  SDAX  ZDTQ\n2018-10-10    24    21    43\n2018-10-11    14    22    41\n2018-10-12    29    23    44\n2018-10-13    44    14    13\n2018-10-14    31    28    34\n2018-10-15    36    49    27\n2018-10-16    48    20    46\n2018-10-17    48    37    27\n2018-10-18    16    42    22\n2018-10-19    23    36    32\n2018-10-20    13    31    28\n2018-10-21    23    33    18\n2018-10-22    14    47    45\n2018-10-23    28    21    31\n2018-10-24    31    36    40\n2018-10-25    19    25    46\n2018-10-26    30    46    48\n2018-10-27    19    34    35\n2018-10-28    24    13    24\n2018-10-29    48    15    39\n2018-10-30    16    34    14\n2018-10-31    37    30    28\n2018-11-01    34    24    20\n2018-11-02    17    15    38\n2018-11-03    44    15    22\n2018-11-04    24    36    28\n2018-11-05    12    41    49\n2018-11-06    24    27    14\n\nINPUT high_prices:\n            GCZG  SDAX  ZDTQ\n2018-10-10    48    48    43\n2018-10-11    42    49    47\n2018-10-12    45    47    48\n2018-10-13    48    46    48\n2018-10-14    49    49    46\n2018-10-15    40    49    49\n2018-10-16    49    44    49\n2018-10-17    49    46    48\n2018-10-18    46    49    49\n2018-10-19    49    47    47\n2018-10-20    45    49    46\n2018-10-21    45    49    49\n2018-10-22    49    48    48\n2018-10-23    48    49    49\n2018-10-24    49    49    48\n2018-10-25    48    48    49\n2018-10-26    48    47    48\n2018-10-27    47    49    49\n2018-10-28    47    49    49\n2018-10-29    48    49    48\n2018-10-30    49    49    47\n2018-10-31    48    47    48\n2018-11-01    47    48    47\n2018-11-02    49    49    45\n2018-11-03    49    49    49\n2018-11-04    47    46    48\n2018-11-05    47    47    49\n2018-11-06    49    49    46\n\nINPUT low_prices:\n            GCZG  SDAX  ZDTQ\n2018-10-10    12    12    13\n2018-10-11    12    14    15\n2018-10-12    13    14    12\n2018-10-13    14    14    13\n2018-10-14    12    12    14\n2018-10-15    12    12    12\n2018-10-16    12    12    12\n2018-10-17    13    12    13\n2018-10-18    12    12    13\n2018-10-19    14    12    14\n2018-10-20    12    12    12\n2018-10-21    13    14    16\n2018-10-22    14    13    13\n2018-10-23    13    14    12\n2018-10-24    14    12    14\n2018-10-25    15    12    13\n2018-10-26    12    12    12\n2018-10-27    12    13    15\n2018-10-28    14    12    12\n2018-10-29    12    12    12\n2018-10-30    12    14    13\n2018-10-31    12    12    13\n2018-11-01    13    14    15\n2018-11-02    12    12    12\n2018-11-03    12    14    12\n2018-11-04    12    12    13\n2018-11-05    12    12    12\n2018-11-06    16    12    14\n\nINPUT close_prices:\n            GCZG  SDAX  ZDTQ\n2018-10-10    27    45    15\n2018-10-11    40    49    40\n2018-10-12    25    26    36\n2018-10-13    26    36    19\n2018-10-14    25    34    46\n2018-10-15    22    39    45\n2018-10-16    40    14    17\n2018-10-17    42    46    33\n2018-10-18    35    41    49\n2018-10-19    14    24    31\n2018-10-20    41    18    13\n2018-10-21    36    27    18\n2018-10-22    16    16    45\n2018-10-23    37    24    16\n2018-10-24    43    40    28\n2018-10-25    39    29    45\n2018-10-26    38    20    43\n2018-10-27    44    13    34\n2018-10-28    23    17    47\n2018-10-29    25    14    38\n2018-10-30    48    44    23\n2018-10-31    37    24    33\n2018-11-01    40    28    17\n2018-11-02    31    12    44\n2018-11-03    29    40    49\n2018-11-04    18    30    13\n2018-11-05    27    16    47\n2018-11-06    31    32    14\n\nOUTPUT open_prices_weekly:\n            GCZG  SDAX  ZDTQ\n2018-10-14    24    21    43\n2018-10-21    36    49    27\n2018-10-28    14    47    45\n2018-11-04    48    15    39\n2018-11-11    12    41    49\n\nOUTPUT high_prices_weekly:\n            GCZG  SDAX  ZDTQ\n2018-10-14    44    28    44\n2018-10-21    48    49    46\n2018-10-28    31    47    48\n2018-11-04    48    36    39\n2018-11-11    24    41    49\n\nOUTPUT low_prices_weekly:\n            GCZG  SDAX  ZDTQ\n2018-10-14    14    14    13\n2018-10-21    13    20    18\n2018-10-28    14    13    24\n2018-11-04    16    15    14\n2018-11-11    12    27    14\n\nOUTPUT close_prices_weekly:\n            GCZG  SDAX  ZDTQ\n2018-10-14    31    28    34\n2018-10-21    23    33    18\n2018-10-28    24    13    24\n2018-11-04    24    36    28\n2018-11-11    24    27    14\n\nEXPECTED OUTPUT FOR open_prices_weekly:\n            GCZG  SDAX  ZDTQ\n2018-10-14    24    21    43\n2018-10-21    36    49    27\n2018-10-28    14    47    45\n2018-11-04    48    15    39\n2018-11-11    12    41    49\n\nEXPECTED OUTPUT FOR high_prices_weekly:\n            GCZG  SDAX  ZDTQ\n2018-10-14    49    49    48\n2018-10-21    49    49    49\n2018-10-28    49    49    49\n2018-11-04    49    49    49\n2018-11-11    49    49    49\n\nEXPECTED OUTPUT FOR low_prices_weekly:\n            GCZG  SDAX  ZDTQ\n2018-10-14    12    12    12\n2018-10-21    12    12    12\n2018-10-28    12    12    12\n2018-11-04    12    12    12\n2018-11-11    12    12    12\n\nEXPECTED OUTPUT FOR close_prices_weekly:\n            GCZG  SDAX  ZDTQ\n2018-10-14    25    34    46\n2018-10-21    36    27    18\n2018-10-28    23    17    47\n2018-11-04    18    30    13\n2018-11-11    31    32    14\n",
     "output_type": "error",
     "traceback": [
      "\u001b[0;31m---------------------------------------------------------------------------\u001b[0m",
      "\u001b[0;31mAssertionError\u001b[0m                            Traceback (most recent call last)",
      "\u001b[0;32m<ipython-input-9-5ebbf7a1643a>\u001b[0m in \u001b[0;36m<module>\u001b[0;34m()\u001b[0m\n\u001b[1;32m     37\u001b[0m \u001b[0;34m\u001b[0m\u001b[0m\n\u001b[1;32m     38\u001b[0m \u001b[0;34m\u001b[0m\u001b[0m\n\u001b[0;32m---> 39\u001b[0;31m \u001b[0mquiz_tests\u001b[0m\u001b[0;34m.\u001b[0m\u001b[0mtest_days_to_weeks\u001b[0m\u001b[0;34m(\u001b[0m\u001b[0mdays_to_weeks\u001b[0m\u001b[0;34m)\u001b[0m\u001b[0;34m\u001b[0m\u001b[0m\n\u001b[0m",
      "\u001b[0;32m/home/workspace/tests.py\u001b[0m in \u001b[0;36mfunc_wrapper\u001b[0;34m(*args)\u001b[0m\n\u001b[1;32m     58\u001b[0m \u001b[0;32mdef\u001b[0m \u001b[0mproject_test\u001b[0m\u001b[0;34m(\u001b[0m\u001b[0mfunc\u001b[0m\u001b[0;34m)\u001b[0m\u001b[0;34m:\u001b[0m\u001b[0;34m\u001b[0m\u001b[0m\n\u001b[1;32m     59\u001b[0m     \u001b[0;32mdef\u001b[0m \u001b[0mfunc_wrapper\u001b[0m\u001b[0;34m(\u001b[0m\u001b[0;34m*\u001b[0m\u001b[0margs\u001b[0m\u001b[0;34m)\u001b[0m\u001b[0;34m:\u001b[0m\u001b[0;34m\u001b[0m\u001b[0m\n\u001b[0;32m---> 60\u001b[0;31m         \u001b[0mresult\u001b[0m \u001b[0;34m=\u001b[0m \u001b[0mfunc\u001b[0m\u001b[0;34m(\u001b[0m\u001b[0;34m*\u001b[0m\u001b[0margs\u001b[0m\u001b[0;34m)\u001b[0m\u001b[0;34m\u001b[0m\u001b[0m\n\u001b[0m\u001b[1;32m     61\u001b[0m         \u001b[0mprint\u001b[0m\u001b[0;34m(\u001b[0m\u001b[0;34m'Tests Passed'\u001b[0m\u001b[0;34m)\u001b[0m\u001b[0;34m\u001b[0m\u001b[0m\n\u001b[1;32m     62\u001b[0m         \u001b[0;32mreturn\u001b[0m \u001b[0mresult\u001b[0m\u001b[0;34m\u001b[0m\u001b[0m\n",
      "\u001b[0;32m/home/workspace/quiz_tests.py\u001b[0m in \u001b[0;36mtest_days_to_weeks\u001b[0;34m(fn)\u001b[0m\n\u001b[1;32m    182\u001b[0m                 resampled_dates, tickers))])\n\u001b[1;32m    183\u001b[0m \u001b[0;34m\u001b[0m\u001b[0m\n\u001b[0;32m--> 184\u001b[0;31m     \u001b[0massert_output\u001b[0m\u001b[0;34m(\u001b[0m\u001b[0mfn\u001b[0m\u001b[0;34m,\u001b[0m \u001b[0mfn_inputs\u001b[0m\u001b[0;34m,\u001b[0m \u001b[0mfn_correct_outputs\u001b[0m\u001b[0;34m)\u001b[0m\u001b[0;34m\u001b[0m\u001b[0m\n\u001b[0m",
      "\u001b[0;32m/home/workspace/tests.py\u001b[0m in \u001b[0;36massert_output\u001b[0;34m(fn, fn_inputs, fn_expected_outputs)\u001b[0m\n\u001b[1;32m    159\u001b[0m                 \u001b[0mout_is_close\u001b[0m \u001b[0;34m=\u001b[0m \u001b[0mout_is_close\u001b[0m\u001b[0;34m.\u001b[0m\u001b[0mall\u001b[0m\u001b[0;34m(\u001b[0m\u001b[0;34m)\u001b[0m\u001b[0;34m\u001b[0m\u001b[0m\n\u001b[1;32m    160\u001b[0m \u001b[0;34m\u001b[0m\u001b[0m\n\u001b[0;32m--> 161\u001b[0;31m         \u001b[0;32massert\u001b[0m \u001b[0mout_is_close\u001b[0m\u001b[0;34m,\u001b[0m \u001b[0merr_message\u001b[0m\u001b[0;34m\u001b[0m\u001b[0m\n\u001b[0m",
      "\u001b[0;31mAssertionError\u001b[0m: Wrong value for days_to_weeks.\n\nINPUT open_prices:\n            GCZG  SDAX  ZDTQ\n2018-10-10    24    21    43\n2018-10-11    14    22    41\n2018-10-12    29    23    44\n2018-10-13    44    14    13\n2018-10-14    31    28    34\n2018-10-15    36    49    27\n2018-10-16    48    20    46\n2018-10-17    48    37    27\n2018-10-18    16    42    22\n2018-10-19    23    36    32\n2018-10-20    13    31    28\n2018-10-21    23    33    18\n2018-10-22    14    47    45\n2018-10-23    28    21    31\n2018-10-24    31    36    40\n2018-10-25    19    25    46\n2018-10-26    30    46    48\n2018-10-27    19    34    35\n2018-10-28    24    13    24\n2018-10-29    48    15    39\n2018-10-30    16    34    14\n2018-10-31    37    30    28\n2018-11-01    34    24    20\n2018-11-02    17    15    38\n2018-11-03    44    15    22\n2018-11-04    24    36    28\n2018-11-05    12    41    49\n2018-11-06    24    27    14\n\nINPUT high_prices:\n            GCZG  SDAX  ZDTQ\n2018-10-10    48    48    43\n2018-10-11    42    49    47\n2018-10-12    45    47    48\n2018-10-13    48    46    48\n2018-10-14    49    49    46\n2018-10-15    40    49    49\n2018-10-16    49    44    49\n2018-10-17    49    46    48\n2018-10-18    46    49    49\n2018-10-19    49    47    47\n2018-10-20    45    49    46\n2018-10-21    45    49    49\n2018-10-22    49    48    48\n2018-10-23    48    49    49\n2018-10-24    49    49    48\n2018-10-25    48    48    49\n2018-10-26    48    47    48\n2018-10-27    47    49    49\n2018-10-28    47    49    49\n2018-10-29    48    49    48\n2018-10-30    49    49    47\n2018-10-31    48    47    48\n2018-11-01    47    48    47\n2018-11-02    49    49    45\n2018-11-03    49    49    49\n2018-11-04    47    46    48\n2018-11-05    47    47    49\n2018-11-06    49    49    46\n\nINPUT low_prices:\n            GCZG  SDAX  ZDTQ\n2018-10-10    12    12    13\n2018-10-11    12    14    15\n2018-10-12    13    14    12\n2018-10-13    14    14    13\n2018-10-14    12    12    14\n2018-10-15    12    12    12\n2018-10-16    12    12    12\n2018-10-17    13    12    13\n2018-10-18    12    12    13\n2018-10-19    14    12    14\n2018-10-20    12    12    12\n2018-10-21    13    14    16\n2018-10-22    14    13    13\n2018-10-23    13    14    12\n2018-10-24    14    12    14\n2018-10-25    15    12    13\n2018-10-26    12    12    12\n2018-10-27    12    13    15\n2018-10-28    14    12    12\n2018-10-29    12    12    12\n2018-10-30    12    14    13\n2018-10-31    12    12    13\n2018-11-01    13    14    15\n2018-11-02    12    12    12\n2018-11-03    12    14    12\n2018-11-04    12    12    13\n2018-11-05    12    12    12\n2018-11-06    16    12    14\n\nINPUT close_prices:\n            GCZG  SDAX  ZDTQ\n2018-10-10    27    45    15\n2018-10-11    40    49    40\n2018-10-12    25    26    36\n2018-10-13    26    36    19\n2018-10-14    25    34    46\n2018-10-15    22    39    45\n2018-10-16    40    14    17\n2018-10-17    42    46    33\n2018-10-18    35    41    49\n2018-10-19    14    24    31\n2018-10-20    41    18    13\n2018-10-21    36    27    18\n2018-10-22    16    16    45\n2018-10-23    37    24    16\n2018-10-24    43    40    28\n2018-10-25    39    29    45\n2018-10-26    38    20    43\n2018-10-27    44    13    34\n2018-10-28    23    17    47\n2018-10-29    25    14    38\n2018-10-30    48    44    23\n2018-10-31    37    24    33\n2018-11-01    40    28    17\n2018-11-02    31    12    44\n2018-11-03    29    40    49\n2018-11-04    18    30    13\n2018-11-05    27    16    47\n2018-11-06    31    32    14\n\nOUTPUT open_prices_weekly:\n            GCZG  SDAX  ZDTQ\n2018-10-14    24    21    43\n2018-10-21    36    49    27\n2018-10-28    14    47    45\n2018-11-04    48    15    39\n2018-11-11    12    41    49\n\nOUTPUT high_prices_weekly:\n            GCZG  SDAX  ZDTQ\n2018-10-14    44    28    44\n2018-10-21    48    49    46\n2018-10-28    31    47    48\n2018-11-04    48    36    39\n2018-11-11    24    41    49\n\nOUTPUT low_prices_weekly:\n            GCZG  SDAX  ZDTQ\n2018-10-14    14    14    13\n2018-10-21    13    20    18\n2018-10-28    14    13    24\n2018-11-04    16    15    14\n2018-11-11    12    27    14\n\nOUTPUT close_prices_weekly:\n            GCZG  SDAX  ZDTQ\n2018-10-14    31    28    34\n2018-10-21    23    33    18\n2018-10-28    24    13    24\n2018-11-04    24    36    28\n2018-11-11    24    27    14\n\nEXPECTED OUTPUT FOR open_prices_weekly:\n            GCZG  SDAX  ZDTQ\n2018-10-14    24    21    43\n2018-10-21    36    49    27\n2018-10-28    14    47    45\n2018-11-04    48    15    39\n2018-11-11    12    41    49\n\nEXPECTED OUTPUT FOR high_prices_weekly:\n            GCZG  SDAX  ZDTQ\n2018-10-14    49    49    48\n2018-10-21    49    49    49\n2018-10-28    49    49    49\n2018-11-04    49    49    49\n2018-11-11    49    49    49\n\nEXPECTED OUTPUT FOR low_prices_weekly:\n            GCZG  SDAX  ZDTQ\n2018-10-14    12    12    12\n2018-10-21    12    12    12\n2018-10-28    12    12    12\n2018-11-04    12    12    12\n2018-11-11    12    12    12\n\nEXPECTED OUTPUT FOR close_prices_weekly:\n            GCZG  SDAX  ZDTQ\n2018-10-14    25    34    46\n2018-10-21    36    27    18\n2018-10-28    23    17    47\n2018-11-04    18    30    13\n2018-11-11    31    32    14\n"
     ]
    }
   ],
   "source": [
    "import quiz_tests\n",
    "\n",
    "\n",
    "def days_to_weeks(open_prices, high_prices, low_prices, close_prices):\n",
    "    \"\"\"Converts daily OHLC prices to weekly OHLC prices.\n",
    "    \n",
    "    Parameters\n",
    "    ----------\n",
    "    open_prices : DataFrame\n",
    "        Daily open prices for each ticker and date\n",
    "    high_prices : DataFrame\n",
    "        Daily high prices for each ticker and date\n",
    "    low_prices : DataFrame\n",
    "        Daily low prices for each ticker and date\n",
    "    close_prices : DataFrame\n",
    "        Daily close prices for each ticker and date\n",
    "\n",
    "    Returns\n",
    "    -------\n",
    "    open_prices_weekly : DataFrame\n",
    "        Weekly open prices for each ticker and date\n",
    "    high_prices_weekly : DataFrame\n",
    "        Weekly high prices for each ticker and date\n",
    "    low_prices_weekly : DataFrame\n",
    "        Weekly low prices for each ticker and date\n",
    "    close_prices_weekly : DataFrame\n",
    "        Weekly close prices for each ticker and date\n",
    "    \"\"\"\n",
    "    \n",
    "    # TODO: Implement Function\n",
    "    open_prices_weekly = open_prices.resample('W').first()\n",
    "    high_prices_weekly = high_prices.resample('W').max()\n",
    "    low_prices_weekly = open_prices.resample('W').min()\n",
    "    close_prices_weekly = open_prices.resample('W').last()\n",
    "    \n",
    "    return open_prices_weekly, high_prices_weekly, low_prices_weekly, close_prices_weekly\n",
    "\n",
    "\n",
    "quiz_tests.test_days_to_weeks(days_to_weeks)"
   ]
  },
  {
   "cell_type": "markdown",
   "metadata": {},
   "source": [
    "## Quiz Solution\n",
    "If you're having trouble, you can check out the quiz solution [here](resample_data_solution.ipynb)."
   ]
  }
 ],
 "metadata": {
  "kernelspec": {
   "display_name": "Python 3",
   "language": "python",
   "name": "python3"
  },
  "language_info": {
   "codemirror_mode": {
    "name": "ipython",
    "version": 3
   },
   "file_extension": ".py",
   "mimetype": "text/x-python",
   "name": "python",
   "nbconvert_exporter": "python",
   "pygments_lexer": "ipython3",
   "version": "3.6.3"
  }
 },
 "nbformat": 4,
 "nbformat_minor": 2
}
