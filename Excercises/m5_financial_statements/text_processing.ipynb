{
 "cells": [
  {
   "cell_type": "markdown",
   "metadata": {},
   "source": [
    "# Text Processing\n",
    "\n",
    "## Capturing Text Data\n",
    "\n",
    "### Plain Text"
   ]
  },
  {
   "cell_type": "code",
   "execution_count": 1,
   "metadata": {},
   "outputs": [
    {
     "name": "stdout",
     "output_type": "stream",
     "text": [
      "Hieroglyphic writing dates from c. 3000 BC, and is composed of hundreds of symbols. A hieroglyph can represent a word, a sound, or a silent determinative; and the same symbol can serve different purposes in different contexts. Hieroglyphs were a formal script, used on stone monuments and in tombs, that could be as detailed as individual works of art.\n",
      "\n"
     ]
    }
   ],
   "source": [
    "import os\n",
    "\n",
    "# Read in a plain text file\n",
    "with open(os.path.join(\"data\", \"hieroglyph.txt\"), \"r\") as f:\n",
    "    text = f.read()\n",
    "    print(text)"
   ]
  },
  {
   "cell_type": "markdown",
   "metadata": {},
   "source": [
    "### Tabular Data"
   ]
  },
  {
   "cell_type": "code",
   "execution_count": 2,
   "metadata": {
    "scrolled": true
   },
   "outputs": [
    {
     "data": {
      "text/html": [
       "<div>\n",
       "<style scoped>\n",
       "    .dataframe tbody tr th:only-of-type {\n",
       "        vertical-align: middle;\n",
       "    }\n",
       "\n",
       "    .dataframe tbody tr th {\n",
       "        vertical-align: top;\n",
       "    }\n",
       "\n",
       "    .dataframe thead th {\n",
       "        text-align: right;\n",
       "    }\n",
       "</style>\n",
       "<table border=\"1\" class=\"dataframe\">\n",
       "  <thead>\n",
       "    <tr style=\"text-align: right;\">\n",
       "      <th></th>\n",
       "      <th>publisher</th>\n",
       "      <th>title</th>\n",
       "    </tr>\n",
       "  </thead>\n",
       "  <tbody>\n",
       "    <tr>\n",
       "      <th>0</th>\n",
       "      <td>Livemint</td>\n",
       "      <td>fed's charles plosser sees high bar for change...</td>\n",
       "    </tr>\n",
       "    <tr>\n",
       "      <th>1</th>\n",
       "      <td>IFA Magazine</td>\n",
       "      <td>us open: stocks fall after fed official hints ...</td>\n",
       "    </tr>\n",
       "    <tr>\n",
       "      <th>2</th>\n",
       "      <td>IFA Magazine</td>\n",
       "      <td>fed risks falling 'behind the curve', charles ...</td>\n",
       "    </tr>\n",
       "    <tr>\n",
       "      <th>3</th>\n",
       "      <td>Moneynews</td>\n",
       "      <td>fed's plosser: nasty weather has curbed job gr...</td>\n",
       "    </tr>\n",
       "    <tr>\n",
       "      <th>4</th>\n",
       "      <td>NASDAQ</td>\n",
       "      <td>plosser: fed may have to accelerate tapering pace</td>\n",
       "    </tr>\n",
       "  </tbody>\n",
       "</table>\n",
       "</div>"
      ],
      "text/plain": [
       "      publisher                                              title\n",
       "0      Livemint  fed's charles plosser sees high bar for change...\n",
       "1  IFA Magazine  us open: stocks fall after fed official hints ...\n",
       "2  IFA Magazine  fed risks falling 'behind the curve', charles ...\n",
       "3     Moneynews  fed's plosser: nasty weather has curbed job gr...\n",
       "4        NASDAQ  plosser: fed may have to accelerate tapering pace"
      ]
     },
     "execution_count": 2,
     "metadata": {},
     "output_type": "execute_result"
    }
   ],
   "source": [
    "import pandas as pd\n",
    "\n",
    "# Extract text column from a dataframe\n",
    "df = pd.read_csv(os.path.join(\"data\", \"news.csv\"))\n",
    "df.head()[['publisher', 'title']]\n",
    "\n",
    "# Convert text column to lowercase\n",
    "df['title'] = df['title'].str.lower()\n",
    "df.head()[['publisher', 'title']]"
   ]
  },
  {
   "cell_type": "markdown",
   "metadata": {},
   "source": [
    "### Online Resource"
   ]
  },
  {
   "cell_type": "code",
   "execution_count": 4,
   "metadata": {
    "scrolled": true
   },
   "outputs": [
    {
     "ename": "SSLError",
     "evalue": "HTTPSConnectionPool(host='quotes.rest', port=443): Max retries exceeded with url: /qod.json (Caused by SSLError(SSLError(\"bad handshake: Error([('SSL routines', 'ssl3_get_server_certificate', 'certificate verify failed')],)\",),))",
     "output_type": "error",
     "traceback": [
      "\u001b[0;31m---------------------------------------------------------------------------\u001b[0m",
      "\u001b[0;31mError\u001b[0m                                     Traceback (most recent call last)",
      "\u001b[0;32m/opt/conda/lib/python3.6/site-packages/urllib3/contrib/pyopenssl.py\u001b[0m in \u001b[0;36mwrap_socket\u001b[0;34m(self, sock, server_side, do_handshake_on_connect, suppress_ragged_eofs, server_hostname)\u001b[0m\n\u001b[1;32m    440\u001b[0m             \u001b[0;32mtry\u001b[0m\u001b[0;34m:\u001b[0m\u001b[0;34m\u001b[0m\u001b[0m\n\u001b[0;32m--> 441\u001b[0;31m                 \u001b[0mcnx\u001b[0m\u001b[0;34m.\u001b[0m\u001b[0mdo_handshake\u001b[0m\u001b[0;34m(\u001b[0m\u001b[0;34m)\u001b[0m\u001b[0;34m\u001b[0m\u001b[0m\n\u001b[0m\u001b[1;32m    442\u001b[0m             \u001b[0;32mexcept\u001b[0m \u001b[0mOpenSSL\u001b[0m\u001b[0;34m.\u001b[0m\u001b[0mSSL\u001b[0m\u001b[0;34m.\u001b[0m\u001b[0mWantReadError\u001b[0m\u001b[0;34m:\u001b[0m\u001b[0;34m\u001b[0m\u001b[0m\n",
      "\u001b[0;32m/opt/conda/lib/python3.6/site-packages/OpenSSL/SSL.py\u001b[0m in \u001b[0;36mdo_handshake\u001b[0;34m(self)\u001b[0m\n\u001b[1;32m   1715\u001b[0m         \u001b[0mresult\u001b[0m \u001b[0;34m=\u001b[0m \u001b[0m_lib\u001b[0m\u001b[0;34m.\u001b[0m\u001b[0mSSL_do_handshake\u001b[0m\u001b[0;34m(\u001b[0m\u001b[0mself\u001b[0m\u001b[0;34m.\u001b[0m\u001b[0m_ssl\u001b[0m\u001b[0;34m)\u001b[0m\u001b[0;34m\u001b[0m\u001b[0m\n\u001b[0;32m-> 1716\u001b[0;31m         \u001b[0mself\u001b[0m\u001b[0;34m.\u001b[0m\u001b[0m_raise_ssl_error\u001b[0m\u001b[0;34m(\u001b[0m\u001b[0mself\u001b[0m\u001b[0;34m.\u001b[0m\u001b[0m_ssl\u001b[0m\u001b[0;34m,\u001b[0m \u001b[0mresult\u001b[0m\u001b[0;34m)\u001b[0m\u001b[0;34m\u001b[0m\u001b[0m\n\u001b[0m\u001b[1;32m   1717\u001b[0m \u001b[0;34m\u001b[0m\u001b[0m\n",
      "\u001b[0;32m/opt/conda/lib/python3.6/site-packages/OpenSSL/SSL.py\u001b[0m in \u001b[0;36m_raise_ssl_error\u001b[0;34m(self, ssl, result)\u001b[0m\n\u001b[1;32m   1455\u001b[0m         \u001b[0;32melse\u001b[0m\u001b[0;34m:\u001b[0m\u001b[0;34m\u001b[0m\u001b[0m\n\u001b[0;32m-> 1456\u001b[0;31m             \u001b[0m_raise_current_error\u001b[0m\u001b[0;34m(\u001b[0m\u001b[0;34m)\u001b[0m\u001b[0;34m\u001b[0m\u001b[0m\n\u001b[0m\u001b[1;32m   1457\u001b[0m \u001b[0;34m\u001b[0m\u001b[0m\n",
      "\u001b[0;32m/opt/conda/lib/python3.6/site-packages/OpenSSL/_util.py\u001b[0m in \u001b[0;36mexception_from_error_queue\u001b[0;34m(exception_type)\u001b[0m\n\u001b[1;32m     53\u001b[0m \u001b[0;34m\u001b[0m\u001b[0m\n\u001b[0;32m---> 54\u001b[0;31m     \u001b[0;32mraise\u001b[0m \u001b[0mexception_type\u001b[0m\u001b[0;34m(\u001b[0m\u001b[0merrors\u001b[0m\u001b[0;34m)\u001b[0m\u001b[0;34m\u001b[0m\u001b[0m\n\u001b[0m\u001b[1;32m     55\u001b[0m \u001b[0;34m\u001b[0m\u001b[0m\n",
      "\u001b[0;31mError\u001b[0m: [('SSL routines', 'ssl3_get_server_certificate', 'certificate verify failed')]",
      "\nDuring handling of the above exception, another exception occurred:\n",
      "\u001b[0;31mSSLError\u001b[0m                                  Traceback (most recent call last)",
      "\u001b[0;32m/opt/conda/lib/python3.6/site-packages/urllib3/connectionpool.py\u001b[0m in \u001b[0;36murlopen\u001b[0;34m(self, method, url, body, headers, retries, redirect, assert_same_host, timeout, pool_timeout, release_conn, chunked, body_pos, **response_kw)\u001b[0m\n\u001b[1;32m    600\u001b[0m                                                   \u001b[0mbody\u001b[0m\u001b[0;34m=\u001b[0m\u001b[0mbody\u001b[0m\u001b[0;34m,\u001b[0m \u001b[0mheaders\u001b[0m\u001b[0;34m=\u001b[0m\u001b[0mheaders\u001b[0m\u001b[0;34m,\u001b[0m\u001b[0;34m\u001b[0m\u001b[0m\n\u001b[0;32m--> 601\u001b[0;31m                                                   chunked=chunked)\n\u001b[0m\u001b[1;32m    602\u001b[0m \u001b[0;34m\u001b[0m\u001b[0m\n",
      "\u001b[0;32m/opt/conda/lib/python3.6/site-packages/urllib3/connectionpool.py\u001b[0m in \u001b[0;36m_make_request\u001b[0;34m(self, conn, method, url, timeout, chunked, **httplib_request_kw)\u001b[0m\n\u001b[1;32m    345\u001b[0m         \u001b[0;32mtry\u001b[0m\u001b[0;34m:\u001b[0m\u001b[0;34m\u001b[0m\u001b[0m\n\u001b[0;32m--> 346\u001b[0;31m             \u001b[0mself\u001b[0m\u001b[0;34m.\u001b[0m\u001b[0m_validate_conn\u001b[0m\u001b[0;34m(\u001b[0m\u001b[0mconn\u001b[0m\u001b[0;34m)\u001b[0m\u001b[0;34m\u001b[0m\u001b[0m\n\u001b[0m\u001b[1;32m    347\u001b[0m         \u001b[0;32mexcept\u001b[0m \u001b[0;34m(\u001b[0m\u001b[0mSocketTimeout\u001b[0m\u001b[0;34m,\u001b[0m \u001b[0mBaseSSLError\u001b[0m\u001b[0;34m)\u001b[0m \u001b[0;32mas\u001b[0m \u001b[0me\u001b[0m\u001b[0;34m:\u001b[0m\u001b[0;34m\u001b[0m\u001b[0m\n",
      "\u001b[0;32m/opt/conda/lib/python3.6/site-packages/urllib3/connectionpool.py\u001b[0m in \u001b[0;36m_validate_conn\u001b[0;34m(self, conn)\u001b[0m\n\u001b[1;32m    849\u001b[0m         \u001b[0;32mif\u001b[0m \u001b[0;32mnot\u001b[0m \u001b[0mgetattr\u001b[0m\u001b[0;34m(\u001b[0m\u001b[0mconn\u001b[0m\u001b[0;34m,\u001b[0m \u001b[0;34m'sock'\u001b[0m\u001b[0;34m,\u001b[0m \u001b[0;32mNone\u001b[0m\u001b[0;34m)\u001b[0m\u001b[0;34m:\u001b[0m  \u001b[0;31m# AppEngine might not have  `.sock`\u001b[0m\u001b[0;34m\u001b[0m\u001b[0m\n\u001b[0;32m--> 850\u001b[0;31m             \u001b[0mconn\u001b[0m\u001b[0;34m.\u001b[0m\u001b[0mconnect\u001b[0m\u001b[0;34m(\u001b[0m\u001b[0;34m)\u001b[0m\u001b[0;34m\u001b[0m\u001b[0m\n\u001b[0m\u001b[1;32m    851\u001b[0m \u001b[0;34m\u001b[0m\u001b[0m\n",
      "\u001b[0;32m/opt/conda/lib/python3.6/site-packages/urllib3/connection.py\u001b[0m in \u001b[0;36mconnect\u001b[0;34m(self)\u001b[0m\n\u001b[1;32m    325\u001b[0m             \u001b[0mserver_hostname\u001b[0m\u001b[0;34m=\u001b[0m\u001b[0mhostname\u001b[0m\u001b[0;34m,\u001b[0m\u001b[0;34m\u001b[0m\u001b[0m\n\u001b[0;32m--> 326\u001b[0;31m             ssl_context=context)\n\u001b[0m\u001b[1;32m    327\u001b[0m \u001b[0;34m\u001b[0m\u001b[0m\n",
      "\u001b[0;32m/opt/conda/lib/python3.6/site-packages/urllib3/util/ssl_.py\u001b[0m in \u001b[0;36mssl_wrap_socket\u001b[0;34m(sock, keyfile, certfile, cert_reqs, ca_certs, server_hostname, ssl_version, ciphers, ssl_context, ca_cert_dir)\u001b[0m\n\u001b[1;32m    328\u001b[0m     \u001b[0;32mif\u001b[0m \u001b[0mHAS_SNI\u001b[0m\u001b[0;34m:\u001b[0m  \u001b[0;31m# Platform-specific: OpenSSL with enabled SNI\u001b[0m\u001b[0;34m\u001b[0m\u001b[0m\n\u001b[0;32m--> 329\u001b[0;31m         \u001b[0;32mreturn\u001b[0m \u001b[0mcontext\u001b[0m\u001b[0;34m.\u001b[0m\u001b[0mwrap_socket\u001b[0m\u001b[0;34m(\u001b[0m\u001b[0msock\u001b[0m\u001b[0;34m,\u001b[0m \u001b[0mserver_hostname\u001b[0m\u001b[0;34m=\u001b[0m\u001b[0mserver_hostname\u001b[0m\u001b[0;34m)\u001b[0m\u001b[0;34m\u001b[0m\u001b[0m\n\u001b[0m\u001b[1;32m    330\u001b[0m \u001b[0;34m\u001b[0m\u001b[0m\n",
      "\u001b[0;32m/opt/conda/lib/python3.6/site-packages/urllib3/contrib/pyopenssl.py\u001b[0m in \u001b[0;36mwrap_socket\u001b[0;34m(self, sock, server_side, do_handshake_on_connect, suppress_ragged_eofs, server_hostname)\u001b[0m\n\u001b[1;32m    447\u001b[0m             \u001b[0;32mexcept\u001b[0m \u001b[0mOpenSSL\u001b[0m\u001b[0;34m.\u001b[0m\u001b[0mSSL\u001b[0m\u001b[0;34m.\u001b[0m\u001b[0mError\u001b[0m \u001b[0;32mas\u001b[0m \u001b[0me\u001b[0m\u001b[0;34m:\u001b[0m\u001b[0;34m\u001b[0m\u001b[0m\n\u001b[0;32m--> 448\u001b[0;31m                 \u001b[0;32mraise\u001b[0m \u001b[0mssl\u001b[0m\u001b[0;34m.\u001b[0m\u001b[0mSSLError\u001b[0m\u001b[0;34m(\u001b[0m\u001b[0;34m'bad handshake: %r'\u001b[0m \u001b[0;34m%\u001b[0m \u001b[0me\u001b[0m\u001b[0;34m)\u001b[0m\u001b[0;34m\u001b[0m\u001b[0m\n\u001b[0m\u001b[1;32m    449\u001b[0m             \u001b[0;32mbreak\u001b[0m\u001b[0;34m\u001b[0m\u001b[0m\n",
      "\u001b[0;31mSSLError\u001b[0m: (\"bad handshake: Error([('SSL routines', 'ssl3_get_server_certificate', 'certificate verify failed')],)\",)",
      "\nDuring handling of the above exception, another exception occurred:\n",
      "\u001b[0;31mMaxRetryError\u001b[0m                             Traceback (most recent call last)",
      "\u001b[0;32m/opt/conda/lib/python3.6/site-packages/requests/adapters.py\u001b[0m in \u001b[0;36msend\u001b[0;34m(self, request, stream, timeout, verify, cert, proxies)\u001b[0m\n\u001b[1;32m    439\u001b[0m                     \u001b[0mretries\u001b[0m\u001b[0;34m=\u001b[0m\u001b[0mself\u001b[0m\u001b[0;34m.\u001b[0m\u001b[0mmax_retries\u001b[0m\u001b[0;34m,\u001b[0m\u001b[0;34m\u001b[0m\u001b[0m\n\u001b[0;32m--> 440\u001b[0;31m                     \u001b[0mtimeout\u001b[0m\u001b[0;34m=\u001b[0m\u001b[0mtimeout\u001b[0m\u001b[0;34m\u001b[0m\u001b[0m\n\u001b[0m\u001b[1;32m    441\u001b[0m                 )\n",
      "\u001b[0;32m/opt/conda/lib/python3.6/site-packages/urllib3/connectionpool.py\u001b[0m in \u001b[0;36murlopen\u001b[0;34m(self, method, url, body, headers, retries, redirect, assert_same_host, timeout, pool_timeout, release_conn, chunked, body_pos, **response_kw)\u001b[0m\n\u001b[1;32m    638\u001b[0m             retries = retries.increment(method, url, error=e, _pool=self,\n\u001b[0;32m--> 639\u001b[0;31m                                         _stacktrace=sys.exc_info()[2])\n\u001b[0m\u001b[1;32m    640\u001b[0m             \u001b[0mretries\u001b[0m\u001b[0;34m.\u001b[0m\u001b[0msleep\u001b[0m\u001b[0;34m(\u001b[0m\u001b[0;34m)\u001b[0m\u001b[0;34m\u001b[0m\u001b[0m\n",
      "\u001b[0;32m/opt/conda/lib/python3.6/site-packages/urllib3/util/retry.py\u001b[0m in \u001b[0;36mincrement\u001b[0;34m(self, method, url, response, error, _pool, _stacktrace)\u001b[0m\n\u001b[1;32m    387\u001b[0m         \u001b[0;32mif\u001b[0m \u001b[0mnew_retry\u001b[0m\u001b[0;34m.\u001b[0m\u001b[0mis_exhausted\u001b[0m\u001b[0;34m(\u001b[0m\u001b[0;34m)\u001b[0m\u001b[0;34m:\u001b[0m\u001b[0;34m\u001b[0m\u001b[0m\n\u001b[0;32m--> 388\u001b[0;31m             \u001b[0;32mraise\u001b[0m \u001b[0mMaxRetryError\u001b[0m\u001b[0;34m(\u001b[0m\u001b[0m_pool\u001b[0m\u001b[0;34m,\u001b[0m \u001b[0murl\u001b[0m\u001b[0;34m,\u001b[0m \u001b[0merror\u001b[0m \u001b[0;32mor\u001b[0m \u001b[0mResponseError\u001b[0m\u001b[0;34m(\u001b[0m\u001b[0mcause\u001b[0m\u001b[0;34m)\u001b[0m\u001b[0;34m)\u001b[0m\u001b[0;34m\u001b[0m\u001b[0m\n\u001b[0m\u001b[1;32m    389\u001b[0m \u001b[0;34m\u001b[0m\u001b[0m\n",
      "\u001b[0;31mMaxRetryError\u001b[0m: HTTPSConnectionPool(host='quotes.rest', port=443): Max retries exceeded with url: /qod.json (Caused by SSLError(SSLError(\"bad handshake: Error([('SSL routines', 'ssl3_get_server_certificate', 'certificate verify failed')],)\",),))",
      "\nDuring handling of the above exception, another exception occurred:\n",
      "\u001b[0;31mSSLError\u001b[0m                                  Traceback (most recent call last)",
      "\u001b[0;32m<ipython-input-4-e1169bcb5840>\u001b[0m in \u001b[0;36m<module>\u001b[0;34m()\u001b[0m\n\u001b[1;32m      4\u001b[0m \u001b[0;31m# Fetch data from a REST API\u001b[0m\u001b[0;34m\u001b[0m\u001b[0;34m\u001b[0m\u001b[0m\n\u001b[1;32m      5\u001b[0m r = requests.get(\n\u001b[0;32m----> 6\u001b[0;31m     \"https://quotes.rest/qod.json\")\n\u001b[0m\u001b[1;32m      7\u001b[0m \u001b[0mres\u001b[0m \u001b[0;34m=\u001b[0m \u001b[0mr\u001b[0m\u001b[0;34m.\u001b[0m\u001b[0mjson\u001b[0m\u001b[0;34m(\u001b[0m\u001b[0;34m)\u001b[0m\u001b[0;34m\u001b[0m\u001b[0m\n\u001b[1;32m      8\u001b[0m \u001b[0mprint\u001b[0m\u001b[0;34m(\u001b[0m\u001b[0mjson\u001b[0m\u001b[0;34m.\u001b[0m\u001b[0mdumps\u001b[0m\u001b[0;34m(\u001b[0m\u001b[0mres\u001b[0m\u001b[0;34m,\u001b[0m \u001b[0mindent\u001b[0m\u001b[0;34m=\u001b[0m\u001b[0;36m4\u001b[0m\u001b[0;34m)\u001b[0m\u001b[0;34m)\u001b[0m\u001b[0;34m\u001b[0m\u001b[0m\n",
      "\u001b[0;32m/opt/conda/lib/python3.6/site-packages/requests/api.py\u001b[0m in \u001b[0;36mget\u001b[0;34m(url, params, **kwargs)\u001b[0m\n\u001b[1;32m     70\u001b[0m \u001b[0;34m\u001b[0m\u001b[0m\n\u001b[1;32m     71\u001b[0m     \u001b[0mkwargs\u001b[0m\u001b[0;34m.\u001b[0m\u001b[0msetdefault\u001b[0m\u001b[0;34m(\u001b[0m\u001b[0;34m'allow_redirects'\u001b[0m\u001b[0;34m,\u001b[0m \u001b[0;32mTrue\u001b[0m\u001b[0;34m)\u001b[0m\u001b[0;34m\u001b[0m\u001b[0m\n\u001b[0;32m---> 72\u001b[0;31m     \u001b[0;32mreturn\u001b[0m \u001b[0mrequest\u001b[0m\u001b[0;34m(\u001b[0m\u001b[0;34m'get'\u001b[0m\u001b[0;34m,\u001b[0m \u001b[0murl\u001b[0m\u001b[0;34m,\u001b[0m \u001b[0mparams\u001b[0m\u001b[0;34m=\u001b[0m\u001b[0mparams\u001b[0m\u001b[0;34m,\u001b[0m \u001b[0;34m**\u001b[0m\u001b[0mkwargs\u001b[0m\u001b[0;34m)\u001b[0m\u001b[0;34m\u001b[0m\u001b[0m\n\u001b[0m\u001b[1;32m     73\u001b[0m \u001b[0;34m\u001b[0m\u001b[0m\n\u001b[1;32m     74\u001b[0m \u001b[0;34m\u001b[0m\u001b[0m\n",
      "\u001b[0;32m/opt/conda/lib/python3.6/site-packages/requests/api.py\u001b[0m in \u001b[0;36mrequest\u001b[0;34m(method, url, **kwargs)\u001b[0m\n\u001b[1;32m     56\u001b[0m     \u001b[0;31m# cases, and look like a memory leak in others.\u001b[0m\u001b[0;34m\u001b[0m\u001b[0;34m\u001b[0m\u001b[0m\n\u001b[1;32m     57\u001b[0m     \u001b[0;32mwith\u001b[0m \u001b[0msessions\u001b[0m\u001b[0;34m.\u001b[0m\u001b[0mSession\u001b[0m\u001b[0;34m(\u001b[0m\u001b[0;34m)\u001b[0m \u001b[0;32mas\u001b[0m \u001b[0msession\u001b[0m\u001b[0;34m:\u001b[0m\u001b[0;34m\u001b[0m\u001b[0m\n\u001b[0;32m---> 58\u001b[0;31m         \u001b[0;32mreturn\u001b[0m \u001b[0msession\u001b[0m\u001b[0;34m.\u001b[0m\u001b[0mrequest\u001b[0m\u001b[0;34m(\u001b[0m\u001b[0mmethod\u001b[0m\u001b[0;34m=\u001b[0m\u001b[0mmethod\u001b[0m\u001b[0;34m,\u001b[0m \u001b[0murl\u001b[0m\u001b[0;34m=\u001b[0m\u001b[0murl\u001b[0m\u001b[0;34m,\u001b[0m \u001b[0;34m**\u001b[0m\u001b[0mkwargs\u001b[0m\u001b[0;34m)\u001b[0m\u001b[0;34m\u001b[0m\u001b[0m\n\u001b[0m\u001b[1;32m     59\u001b[0m \u001b[0;34m\u001b[0m\u001b[0m\n\u001b[1;32m     60\u001b[0m \u001b[0;34m\u001b[0m\u001b[0m\n",
      "\u001b[0;32m/opt/conda/lib/python3.6/site-packages/requests/sessions.py\u001b[0m in \u001b[0;36mrequest\u001b[0;34m(self, method, url, params, data, headers, cookies, files, auth, timeout, allow_redirects, proxies, hooks, stream, verify, cert, json)\u001b[0m\n\u001b[1;32m    506\u001b[0m         }\n\u001b[1;32m    507\u001b[0m         \u001b[0msend_kwargs\u001b[0m\u001b[0;34m.\u001b[0m\u001b[0mupdate\u001b[0m\u001b[0;34m(\u001b[0m\u001b[0msettings\u001b[0m\u001b[0;34m)\u001b[0m\u001b[0;34m\u001b[0m\u001b[0m\n\u001b[0;32m--> 508\u001b[0;31m         \u001b[0mresp\u001b[0m \u001b[0;34m=\u001b[0m \u001b[0mself\u001b[0m\u001b[0;34m.\u001b[0m\u001b[0msend\u001b[0m\u001b[0;34m(\u001b[0m\u001b[0mprep\u001b[0m\u001b[0;34m,\u001b[0m \u001b[0;34m**\u001b[0m\u001b[0msend_kwargs\u001b[0m\u001b[0;34m)\u001b[0m\u001b[0;34m\u001b[0m\u001b[0m\n\u001b[0m\u001b[1;32m    509\u001b[0m \u001b[0;34m\u001b[0m\u001b[0m\n\u001b[1;32m    510\u001b[0m         \u001b[0;32mreturn\u001b[0m \u001b[0mresp\u001b[0m\u001b[0;34m\u001b[0m\u001b[0m\n",
      "\u001b[0;32m/opt/conda/lib/python3.6/site-packages/requests/sessions.py\u001b[0m in \u001b[0;36msend\u001b[0;34m(self, request, **kwargs)\u001b[0m\n\u001b[1;32m    616\u001b[0m \u001b[0;34m\u001b[0m\u001b[0m\n\u001b[1;32m    617\u001b[0m         \u001b[0;31m# Send the request\u001b[0m\u001b[0;34m\u001b[0m\u001b[0;34m\u001b[0m\u001b[0m\n\u001b[0;32m--> 618\u001b[0;31m         \u001b[0mr\u001b[0m \u001b[0;34m=\u001b[0m \u001b[0madapter\u001b[0m\u001b[0;34m.\u001b[0m\u001b[0msend\u001b[0m\u001b[0;34m(\u001b[0m\u001b[0mrequest\u001b[0m\u001b[0;34m,\u001b[0m \u001b[0;34m**\u001b[0m\u001b[0mkwargs\u001b[0m\u001b[0;34m)\u001b[0m\u001b[0;34m\u001b[0m\u001b[0m\n\u001b[0m\u001b[1;32m    619\u001b[0m \u001b[0;34m\u001b[0m\u001b[0m\n\u001b[1;32m    620\u001b[0m         \u001b[0;31m# Total elapsed time of the request (approximately)\u001b[0m\u001b[0;34m\u001b[0m\u001b[0;34m\u001b[0m\u001b[0m\n",
      "\u001b[0;32m/opt/conda/lib/python3.6/site-packages/requests/adapters.py\u001b[0m in \u001b[0;36msend\u001b[0;34m(self, request, stream, timeout, verify, cert, proxies)\u001b[0m\n\u001b[1;32m    504\u001b[0m             \u001b[0;32mif\u001b[0m \u001b[0misinstance\u001b[0m\u001b[0;34m(\u001b[0m\u001b[0me\u001b[0m\u001b[0;34m.\u001b[0m\u001b[0mreason\u001b[0m\u001b[0;34m,\u001b[0m \u001b[0m_SSLError\u001b[0m\u001b[0;34m)\u001b[0m\u001b[0;34m:\u001b[0m\u001b[0;34m\u001b[0m\u001b[0m\n\u001b[1;32m    505\u001b[0m                 \u001b[0;31m# This branch is for urllib3 v1.22 and later.\u001b[0m\u001b[0;34m\u001b[0m\u001b[0;34m\u001b[0m\u001b[0m\n\u001b[0;32m--> 506\u001b[0;31m                 \u001b[0;32mraise\u001b[0m \u001b[0mSSLError\u001b[0m\u001b[0;34m(\u001b[0m\u001b[0me\u001b[0m\u001b[0;34m,\u001b[0m \u001b[0mrequest\u001b[0m\u001b[0;34m=\u001b[0m\u001b[0mrequest\u001b[0m\u001b[0;34m)\u001b[0m\u001b[0;34m\u001b[0m\u001b[0m\n\u001b[0m\u001b[1;32m    507\u001b[0m \u001b[0;34m\u001b[0m\u001b[0m\n\u001b[1;32m    508\u001b[0m             \u001b[0;32mraise\u001b[0m \u001b[0mConnectionError\u001b[0m\u001b[0;34m(\u001b[0m\u001b[0me\u001b[0m\u001b[0;34m,\u001b[0m \u001b[0mrequest\u001b[0m\u001b[0;34m=\u001b[0m\u001b[0mrequest\u001b[0m\u001b[0;34m)\u001b[0m\u001b[0;34m\u001b[0m\u001b[0m\n",
      "\u001b[0;31mSSLError\u001b[0m: HTTPSConnectionPool(host='quotes.rest', port=443): Max retries exceeded with url: /qod.json (Caused by SSLError(SSLError(\"bad handshake: Error([('SSL routines', 'ssl3_get_server_certificate', 'certificate verify failed')],)\",),))"
     ]
    }
   ],
   "source": [
    "import requests\n",
    "import json\n",
    "\n",
    "# Fetch data from a REST API\n",
    "r = requests.get(\n",
    "    \"https://quotes.rest/qod.json\")\n",
    "res = r.json()\n",
    "print(json.dumps(res, indent=4))\n",
    "\n",
    "# Extract relevant object and field\n",
    "q = res[\"contents\"][\"quotes\"][0]\n",
    "print(q[\"quote\"], \"\\n--\", q[\"author\"])"
   ]
  },
  {
   "cell_type": "markdown",
   "metadata": {},
   "source": [
    "## Cleaning"
   ]
  },
  {
   "cell_type": "code",
   "execution_count": 5,
   "metadata": {
    "scrolled": true
   },
   "outputs": [
    {
     "name": "stdout",
     "output_type": "stream",
     "text": [
      "<html lang=\"en\" op=\"news\"><head><meta name=\"referrer\" content=\"origin\"><meta name=\"viewport\" content=\"width=device-width, initial-scale=1.0\"><link rel=\"stylesheet\" type=\"text/css\" href=\"news.css?m197TVF2V1k9YYbnNWKh\">\n",
      "        <link rel=\"shortcut icon\" href=\"favicon.ico\">\n",
      "          <link rel=\"alternate\" type=\"application/rss+xml\" title=\"RSS\" href=\"rss\">\n",
      "        <title>Hacker News</title></head><body><center><table id=\"hnmain\" border=\"0\" cellpadding=\"0\" cellspacing=\"0\" width=\"85%\" bgcolor=\"#f6f6ef\">\n",
      "        <tr><td bgcolor=\"#ff6600\"><table border=\"0\" cellpadding=\"0\" cellspacing=\"0\" width=\"100%\" style=\"padding:2px\"><tr><td style=\"width:18px;padding-right:4px\"><a href=\"https://news.ycombinator.com\"><img src=\"y18.gif\" width=\"18\" height=\"18\" style=\"border:1px white solid;\"></a></td>\n",
      "                  <td style=\"line-height:12pt; height:10px;\"><span class=\"pagetop\"><b class=\"hnname\"><a href=\"news\">Hacker News</a></b>\n",
      "                            <a href=\"newest\">new</a> | <a href=\"front\">past</a> | <a href=\"newcomments\">comments</a> | <a href=\"ask\">ask</a> | <a href=\"show\">show</a> | <a href=\"jobs\">jobs</a> | <a href=\"submit\">submit</a>            </span></td><td style=\"text-align:right;padding-right:4px;\"><span class=\"pagetop\">\n",
      "                              <a href=\"login?goto=news\">login</a>\n",
      "                          </span></td>\n",
      "              </tr></table></td></tr>\n",
      "<tr id=\"pagespace\" title=\"\" style=\"height:10px\"></tr><tr><td><table border=\"0\" cellpadding=\"0\" cellspacing=\"0\" class=\"itemlist\">\n",
      "              <tr class='athing' id='32260619'>\n",
      "      <td align=\"right\" valign=\"top\" class=\"title\"><span class=\"rank\">1.</span></td>      <td valign=\"top\" class=\"votelinks\"><center><a id='up_32260619'href='vote?id=32260619&amp;how=up&amp;goto=news'><div class='votearrow' title='upvote'></div></a></center></td><td class=\"title\"><a href=\"https://ahgamut.github.io/2022/07/27/ape-rust-example/\" class=\"titlelink\">Rust Is Actually Portable</a><span class=\"sitebit comhead\"> (<a href=\"from?site=ahgamut.github.io\"><span class=\"sitestr\">ahgamut.github.io</span></a>)</span></td></tr><tr><td colspan=\"2\"></td><td class=\"subtext\">\n",
      "        <span class=\"score\" id=\"score_32260619\">160 points</span> by <a href=\"user?id=ahgamut\" class=\"hnuser\">ahgamut</a> <span class=\"age\" title=\"2022-07-28T04:54:32\"><a href=\"item?id=32260619\">3 hours ago</a></span> <span id=\"unv_32260619\"></span> | <a href=\"hide?id=32260619&amp;goto=news\">hide</a> | <a href=\"item?id=32260619\">37&nbsp;comments</a>              </td></tr>\n",
      "      <tr class=\"spacer\" style=\"height:5px\"></tr>\n",
      "                <tr class='athing' id='32261363'>\n",
      "      <td align=\"right\" valign=\"top\" class=\"title\"><span class=\"rank\">2.</span></td>      <td valign=\"top\" class=\"votelinks\"><center><a id='up_32261363'href='vote?id=32261363&amp;how=up&amp;goto=news'><div class='votearrow' title='upvote'></div></a></center></td><td class=\"title\"><a href=\"https://github.com/jorgef/engineeringladders\" class=\"titlelink\">A Framework for Engineering Managers</a><span class=\"sitebit comhead\"> (<a href=\"from?site=github.com/jorgef\"><span class=\"sitestr\">github.com/jorgef</span></a>)</span></td></tr><tr><td colspan=\"2\"></td><td class=\"subtext\">\n",
      "        <span class=\"score\" id=\"score_32261363\">31 points</span> by <a href=\"user?id=aviramha\" class=\"hnuser\">aviramha</a> <span class=\"age\" title=\"2022-07-28T07:15:32\"><a href=\"item?id=32261363\">1 hour ago</a></span> <span id=\"unv_32261363\"></span> | <a href=\"hide?id=32261363&amp;goto=news\">hide</a> | <a href=\"item?id=32261363\">6&nbsp;comments</a>              </td></tr>\n",
      "      <tr class=\"spacer\" style=\"height:5px\"></tr>\n",
      "                <tr class='athing' id='32259934'>\n",
      "      <td align=\"right\" valign=\"top\" class=\"title\"><span class=\"rank\">3.</span></td>      <td valign=\"top\" class=\"votelinks\"><center><a id='up_32259934'href='vote?id=32259934&amp;how=up&amp;goto=news'><div class='votearrow' title='upvote'></div></a></center></td><td class=\"title\"><a href=\"https://github.com/ronami/HypeScript\" class=\"titlelink\">HypeScript: Simplified TypeScript type system in TypeScript's own type system</a><span class=\"sitebit comhead\"> (<a href=\"from?site=github.com/ronami\"><span class=\"sitestr\">github.com/ronami</span></a>)</span></td></tr><tr><td colspan=\"2\"></td><td class=\"subtext\">\n",
      "        <span class=\"score\" id=\"score_32259934\">132 points</span> by <a href=\"user?id=kerneloops\" class=\"hnuser\">kerneloops</a> <span class=\"age\" title=\"2022-07-28T02:42:33\"><a href=\"item?id=32259934\">6 hours ago</a></span> <span id=\"unv_32259934\"></span> | <a href=\"hide?id=32259934&amp;goto=news\">hide</a> | <a href=\"item?id=32259934\">42&nbsp;comments</a>              </td></tr>\n",
      "      <tr class=\"spacer\" style=\"height:5px\"></tr>\n",
      "                <tr class='athing' id='32246946'>\n",
      "      <td align=\"right\" valign=\"top\" class=\"title\"><span class=\"rank\">4.</span></td>      <td valign=\"top\" class=\"votelinks\"><center><a id='up_32246946'href='vote?id=32246946&amp;how=up&amp;goto=news'><div class='votearrow' title='upvote'></div></a></center></td><td class=\"title\"><a href=\"https://medium.com/starsky-robotics-blog/the-poor-roi-of-autonomy-f5d6f4f2dd14\" class=\"titlelink\">The Poor ROI of Autonomous Trucks (2020)</a><span class=\"sitebit comhead\"> (<a href=\"from?site=medium.com/starsky-robotics-blog\"><span class=\"sitestr\">medium.com/starsky-robotics-blog</span></a>)</span></td></tr><tr><td colspan=\"2\"></td><td class=\"subtext\">\n",
      "        <span class=\"score\" id=\"score_32246946\">62 points</span> by <a href=\"user?id=Danieru\" class=\"hnuser\">Danieru</a> <span class=\"age\" title=\"2022-07-27T04:49:16\"><a href=\"item?id=32246946\">5 hours ago</a></span> <span id=\"unv_32246946\"></span> | <a href=\"hide?id=32246946&amp;goto=news\">hide</a> | <a href=\"item?id=32246946\">53&nbsp;comments</a>              </td></tr>\n",
      "      <tr class=\"spacer\" style=\"height:5px\"></tr>\n",
      "                <tr class='athing' id='32260354'>\n",
      "      <td align=\"right\" valign=\"top\" class=\"title\"><span class=\"rank\">5.</span></td>      <td valign=\"top\" class=\"votelinks\"><center><a id='up_32260354'href='vote?id=32260354&amp;how=up&amp;goto=news'><div class='votearrow' title='upvote'></div></a></center></td><td class=\"title\"><a href=\"https://www.the-tls.co.uk/articles/straw-man-arguments-scott-aikin-john-casey-book-review-mary-leng/\" class=\"titlelink\">The Harry Potter Fallacy</a><span class=\"sitebit comhead\"> (<a href=\"from?site=the-tls.co.uk\"><span class=\"sitestr\">the-tls.co.uk</span></a>)</span></td></tr><tr><td colspan=\"2\"></td><td class=\"subtext\">\n",
      "        <span class=\"score\" id=\"score_32260354\">53 points</span> by <a href=\"user?id=yamrzou\" class=\"hnuser\">yamrzou</a> <span class=\"age\" title=\"2022-07-28T04:02:45\"><a href=\"item?id=32260354\">4 hours ago</a></span> <span id=\"unv_32260354\"></span> | <a href=\"hide?id=32260354&amp;goto=news\">hide</a> | <a href=\"item?id=32260354\">60&nbsp;comments</a>              </td></tr>\n",
      "      <tr class=\"spacer\" style=\"height:5px\"></tr>\n",
      "                <tr class='athing' id='32261571'>\n",
      "      <td align=\"right\" valign=\"top\" class=\"title\"><span class=\"rank\">6.</span></td>      <td valign=\"top\" class=\"votelinks\"><center><a id='up_32261571'href='vote?id=32261571&amp;how=up&amp;goto=news'><div class='votearrow' title='upvote'></div></a></center></td><td class=\"title\"><a href=\"https://twitter.com/culturaltutor/status/1551976051860963333\" class=\"titlelink\">Has the world become less colourful?</a><span class=\"sitebit comhead\"> (<a href=\"from?site=twitter.com/culturaltutor\"><span class=\"sitestr\">twitter.com/culturaltutor</span></a>)</span></td></tr><tr><td colspan=\"2\"></td><td class=\"subtext\">\n",
      "        <span class=\"score\" id=\"score_32261571\">47 points</span> by <a href=\"user?id=rubenv\" class=\"hnuser\">rubenv</a> <span class=\"age\" title=\"2022-07-28T07:55:24\"><a href=\"item?id=32261571\">55 minutes ago</a></span> <span id=\"unv_32261571\"></span> | <a href=\"hide?id=32261571&amp;goto=news\">hide</a> | <a href=\"item?id=32261571\">14&nbsp;comments</a>              </td></tr>\n",
      "      <tr class=\"spacer\" style=\"height:5px\"></tr>\n",
      "                <tr class='athing' id='32258783'>\n",
      "      <td align=\"right\" valign=\"top\" class=\"title\"><span class=\"rank\">7.</span></td>      <td valign=\"top\" class=\"votelinks\"><center><a id='up_32258783'href='vote?id=32258783&amp;how=up&amp;goto=news'><div class='votearrow' title='upvote'></div></a></center></td><td class=\"title\"><a href=\"https://mathspp.com/blog/how-to-create-a-python-package-in-2022\" class=\"titlelink\">How to create a Python package in 2022</a><span class=\"sitebit comhead\"> (<a href=\"from?site=mathspp.com\"><span class=\"sitestr\">mathspp.com</span></a>)</span></td></tr><tr><td colspan=\"2\"></td><td class=\"subtext\">\n",
      "        <span class=\"score\" id=\"score_32258783\">205 points</span> by <a href=\"user?id=kieto\" class=\"hnuser\">kieto</a> <span class=\"age\" title=\"2022-07-28T00:06:31\"><a href=\"item?id=32258783\">8 hours ago</a></span> <span id=\"unv_32258783\"></span> | <a href=\"hide?id=32258783&amp;goto=news\">hide</a> | <a href=\"item?id=32258783\">44&nbsp;comments</a>              </td></tr>\n",
      "      <tr class=\"spacer\" style=\"height:5px\"></tr>\n",
      "                <tr class='athing' id='32260951'>\n",
      "      <td align=\"right\" valign=\"top\" class=\"title\"><span class=\"rank\">8.</span></td>      <td valign=\"top\" class=\"votelinks\"><center><a id='up_32260951'href='vote?id=32260951&amp;how=up&amp;goto=news'><div class='votearrow' title='upvote'></div></a></center></td><td class=\"title\"><a href=\"https://www.economist.com/science-and-technology/2022/07/27/evidence-for-behavioural-interventions-looks-increasingly-shaky\" class=\"titlelink\">Evidence for behavioural interventions looks increasingly shaky</a><span class=\"sitebit comhead\"> (<a href=\"from?site=economist.com\"><span class=\"sitestr\">economist.com</span></a>)</span></td></tr><tr><td colspan=\"2\"></td><td class=\"subtext\">\n",
      "        <span class=\"score\" id=\"score_32260951\">20 points</span> by <a href=\"user?id=helsinkiandrew\" class=\"hnuser\">helsinkiandrew</a> <span class=\"age\" title=\"2022-07-28T06:07:33\"><a href=\"item?id=32260951\">2 hours ago</a></span> <span id=\"unv_32260951\"></span> | <a href=\"hide?id=32260951&amp;goto=news\">hide</a> | <a href=\"item?id=32260951\">11&nbsp;comments</a>              </td></tr>\n",
      "      <tr class=\"spacer\" style=\"height:5px\"></tr>\n",
      "                <tr class='athing' id='32260705'>\n",
      "      <td align=\"right\" valign=\"top\" class=\"title\"><span class=\"rank\">9.</span></td>      <td valign=\"top\" class=\"votelinks\"><center><a id='up_32260705'href='vote?id=32260705&amp;how=up&amp;goto=news'><div class='votearrow' title='upvote'></div></a></center></td><td class=\"title\"><a href=\"https://github.com/ar-nelson/spartan-schema\" class=\"titlelink\">Ultra-minimal JSON schemas with TypeScript inference</a><span class=\"sitebit comhead\"> (<a href=\"from?site=github.com/ar-nelson\"><span class=\"sitestr\">github.com/ar-nelson</span></a>)</span></td></tr><tr><td colspan=\"2\"></td><td class=\"subtext\">\n",
      "        <span class=\"score\" id=\"score_32260705\">32 points</span> by <a href=\"user?id=codewithcheese\" class=\"hnuser\">codewithcheese</a> <span class=\"age\" title=\"2022-07-28T05:12:45\"><a href=\"item?id=32260705\">3 hours ago</a></span> <span id=\"unv_32260705\"></span> | <a href=\"hide?id=32260705&amp;goto=news\">hide</a> | <a href=\"item?id=32260705\">20&nbsp;comments</a>              </td></tr>\n",
      "      <tr class=\"spacer\" style=\"height:5px\"></tr>\n",
      "                <tr class='athing' id='32257901'>\n",
      "      <td align=\"right\" valign=\"top\" class=\"title\"><span class=\"rank\">10.</span></td>      <td valign=\"top\" class=\"votelinks\"><center><a id='up_32257901'href='vote?id=32257901&amp;how=up&amp;goto=news'><div class='votearrow' title='upvote'></div></a></center></td><td class=\"title\"><a href=\"https://shitpost.plover.com/g/graphviz-usa.html\" class=\"titlelink\">How Graphviz thinks the USA is laid out (2021)</a><span class=\"sitebit comhead\"> (<a href=\"from?site=plover.com\"><span class=\"sitestr\">plover.com</span></a>)</span></td></tr><tr><td colspan=\"2\"></td><td class=\"subtext\">\n",
      "        <span class=\"score\" id=\"score_32257901\">138 points</span> by <a href=\"user?id=bjourne\" class=\"hnuser\">bjourne</a> <span class=\"age\" title=\"2022-07-27T22:33:34\"><a href=\"item?id=32257901\">10 hours ago</a></span> <span id=\"unv_32257901\"></span> | <a href=\"hide?id=32257901&amp;goto=news\">hide</a> | <a href=\"item?id=32257901\">8&nbsp;comments</a>              </td></tr>\n",
      "      <tr class=\"spacer\" style=\"height:5px\"></tr>\n",
      "                <tr class='athing' id='32256026'>\n",
      "      <td align=\"right\" valign=\"top\" class=\"title\"><span class=\"rank\">11.</span></td>      <td valign=\"top\" class=\"votelinks\"><center><a id='up_32256026'href='vote?id=32256026&amp;how=up&amp;goto=news'><div class='votearrow' title='upvote'></div></a></center></td><td class=\"title\"><a href=\"https://diziet.dreamwidth.org/11840.html\" class=\"titlelink\">Upgrading from Debian Jessie to Bullseye after nearly 30 years</a><span class=\"sitebit comhead\"> (<a href=\"from?site=diziet.dreamwidth.org\"><span class=\"sitestr\">diziet.dreamwidth.org</span></a>)</span></td></tr><tr><td colspan=\"2\"></td><td class=\"subtext\">\n",
      "        <span class=\"score\" id=\"score_32256026\">207 points</span> by <a href=\"user?id=jklinger410\" class=\"hnuser\">jklinger410</a> <span class=\"age\" title=\"2022-07-27T20:01:04\"><a href=\"item?id=32256026\">12 hours ago</a></span> <span id=\"unv_32256026\"></span> | <a href=\"hide?id=32256026&amp;goto=news\">hide</a> | <a href=\"item?id=32256026\">68&nbsp;comments</a>              </td></tr>\n",
      "      <tr class=\"spacer\" style=\"height:5px\"></tr>\n",
      "                <tr class='athing' id='32257975'>\n",
      "      <td align=\"right\" valign=\"top\" class=\"title\"><span class=\"rank\">12.</span></td>      <td valign=\"top\" class=\"votelinks\"><center><a id='up_32257975'href='vote?id=32257975&amp;how=up&amp;goto=news'><div class='votearrow' title='upvote'></div></a></center></td><td class=\"title\"><a href=\"http://www.mitsuba-renderer.org\" class=\"titlelink\">Mitsuba 3 Physically Based Renderer</a><span class=\"sitebit comhead\"> (<a href=\"from?site=mitsuba-renderer.org\"><span class=\"sitestr\">mitsuba-renderer.org</span></a>)</span></td></tr><tr><td colspan=\"2\"></td><td class=\"subtext\">\n",
      "        <span class=\"score\" id=\"score_32257975\">137 points</span> by <a href=\"user?id=oumua_don17\" class=\"hnuser\">oumua_don17</a> <span class=\"age\" title=\"2022-07-27T22:40:12\"><a href=\"item?id=32257975\">10 hours ago</a></span> <span id=\"unv_32257975\"></span> | <a href=\"hide?id=32257975&amp;goto=news\">hide</a> | <a href=\"item?id=32257975\">41&nbsp;comments</a>              </td></tr>\n",
      "      <tr class=\"spacer\" style=\"height:5px\"></tr>\n",
      "                <tr class='athing' id='32258836'>\n",
      "      <td align=\"right\" valign=\"top\" class=\"title\"><span class=\"rank\">13.</span></td>      <td valign=\"top\" class=\"votelinks\"><center><a id='up_32258836'href='vote?id=32258836&amp;how=up&amp;goto=news'><div class='votearrow' title='upvote'></div></a></center></td><td class=\"title\"><a href=\"https://11011110.github.io/blog/2022/07/21/flipping-until-lost.html\" class=\"titlelink\">Flipping until you are lost</a><span class=\"sitebit comhead\"> (<a href=\"from?site=11011110.github.io\"><span class=\"sitestr\">11011110.github.io</span></a>)</span></td></tr><tr><td colspan=\"2\"></td><td class=\"subtext\">\n",
      "        <span class=\"score\" id=\"score_32258836\">80 points</span> by <a href=\"user?id=greghn\" class=\"hnuser\">greghn</a> <span class=\"age\" title=\"2022-07-28T00:13:20\"><a href=\"item?id=32258836\">8 hours ago</a></span> <span id=\"unv_32258836\"></span> | <a href=\"hide?id=32258836&amp;goto=news\">hide</a> | <a href=\"item?id=32258836\">1&nbsp;comment</a>              </td></tr>\n",
      "      <tr class=\"spacer\" style=\"height:5px\"></tr>\n",
      "                <tr class='athing' id='32257852'>\n",
      "      <td align=\"right\" valign=\"top\" class=\"title\"><span class=\"rank\">14.</span></td>      <td valign=\"top\" class=\"votelinks\"><center><a id='up_32257852'href='vote?id=32257852&amp;how=up&amp;goto=news'><div class='votearrow' title='upvote'></div></a></center></td><td class=\"title\"><a href=\"https://xkln.net/blog/icmp-ping-and-traceroute--what-i-wish-i-was-taught/\" class=\"titlelink\">ICMP, Ping, and Traceroute – What I wish I was taught (2020)</a><span class=\"sitebit comhead\"> (<a href=\"from?site=xkln.net\"><span class=\"sitestr\">xkln.net</span></a>)</span></td></tr><tr><td colspan=\"2\"></td><td class=\"subtext\">\n",
      "        <span class=\"score\" id=\"score_32257852\">67 points</span> by <a href=\"user?id=twooster\" class=\"hnuser\">twooster</a> <span class=\"age\" title=\"2022-07-27T22:28:29\"><a href=\"item?id=32257852\">7 hours ago</a></span> <span id=\"unv_32257852\"></span> | <a href=\"hide?id=32257852&amp;goto=news\">hide</a> | <a href=\"item?id=32257852\">13&nbsp;comments</a>              </td></tr>\n",
      "      <tr class=\"spacer\" style=\"height:5px\"></tr>\n",
      "                <tr class='athing' id='32257612'>\n",
      "      <td align=\"right\" valign=\"top\" class=\"title\"><span class=\"rank\">15.</span></td>      <td valign=\"top\" class=\"votelinks\"><center><a id='up_32257612'href='vote?id=32257612&amp;how=up&amp;goto=news'><div class='votearrow' title='upvote'></div></a></center></td><td class=\"title\"><a href=\"https://thehustle.co/worst-video-game-in-history-et/\" class=\"titlelink\">The man who made the “worst” video game in history (2019)</a><span class=\"sitebit comhead\"> (<a href=\"from?site=thehustle.co\"><span class=\"sitestr\">thehustle.co</span></a>)</span></td></tr><tr><td colspan=\"2\"></td><td class=\"subtext\">\n",
      "        <span class=\"score\" id=\"score_32257612\">78 points</span> by <a href=\"user?id=paulpauper\" class=\"hnuser\">paulpauper</a> <span class=\"age\" title=\"2022-07-27T22:02:33\"><a href=\"item?id=32257612\">9 hours ago</a></span> <span id=\"unv_32257612\"></span> | <a href=\"hide?id=32257612&amp;goto=news\">hide</a> | <a href=\"item?id=32257612\">59&nbsp;comments</a>              </td></tr>\n",
      "      <tr class=\"spacer\" style=\"height:5px\"></tr>\n",
      "                <tr class='athing' id='32237650'>\n",
      "      <td align=\"right\" valign=\"top\" class=\"title\"><span class=\"rank\">16.</span></td>      <td valign=\"top\" class=\"votelinks\"><center><a id='up_32237650'href='vote?id=32237650&amp;how=up&amp;goto=news'><div class='votearrow' title='upvote'></div></a></center></td><td class=\"title\"><a href=\"https://www.theregister.com/2022/07/25/upgrading_probably_the_worlds_oldest/\" class=\"titlelink\">Upgrading what might be the oldest running Linux install</a><span class=\"sitebit comhead\"> (<a href=\"from?site=theregister.com\"><span class=\"sitestr\">theregister.com</span></a>)</span></td></tr><tr><td colspan=\"2\"></td><td class=\"subtext\">\n",
      "        <span class=\"score\" id=\"score_32237650\">59 points</span> by <a href=\"user?id=theandrewbailey\" class=\"hnuser\">theandrewbailey</a> <span class=\"age\" title=\"2022-07-26T12:59:58\"><a href=\"item?id=32237650\">6 hours ago</a></span> <span id=\"unv_32237650\"></span> | <a href=\"hide?id=32237650&amp;goto=news\">hide</a> | <a href=\"item?id=32237650\">6&nbsp;comments</a>              </td></tr>\n",
      "      <tr class=\"spacer\" style=\"height:5px\"></tr>\n",
      "                <tr class='athing' id='32253053'>\n",
      "      <td align=\"right\" valign=\"top\" class=\"title\"><span class=\"rank\">17.</span></td>      <td valign=\"top\" class=\"votelinks\"><center><a id='up_32253053'href='vote?id=32253053&amp;how=up&amp;goto=news'><div class='votearrow' title='upvote'></div></a></center></td><td class=\"title\"><a href=\"https://www.csail.mit.edu/news/how-wikipedia-influences-judicial-behavior\" class=\"titlelink\">How Wikipedia influences judicial behavior</a><span class=\"sitebit comhead\"> (<a href=\"from?site=csail.mit.edu\"><span class=\"sitestr\">csail.mit.edu</span></a>)</span></td></tr><tr><td colspan=\"2\"></td><td class=\"subtext\">\n",
      "        <span class=\"score\" id=\"score_32253053\">156 points</span> by <a href=\"user?id=czl_my\" class=\"hnuser\">czl_my</a> <span class=\"age\" title=\"2022-07-27T17:01:52\"><a href=\"item?id=32253053\">14 hours ago</a></span> <span id=\"unv_32253053\"></span> | <a href=\"hide?id=32253053&amp;goto=news\">hide</a> | <a href=\"item?id=32253053\">82&nbsp;comments</a>              </td></tr>\n",
      "      <tr class=\"spacer\" style=\"height:5px\"></tr>\n",
      "                <tr class='athing' id='32254318'>\n",
      "      <td align=\"right\" valign=\"top\" class=\"title\"><span class=\"rank\">18.</span></td>      <td valign=\"top\" class=\"votelinks\"><center><a id='up_32254318'href='vote?id=32254318&amp;how=up&amp;goto=news'><div class='votearrow' title='upvote'></div></a></center></td><td class=\"title\"><a href=\"https://www.cnil.fr/en/qa-cnils-formal-notices-concerning-use-google-analytics\" class=\"titlelink\">CNIL makes Google Analytics almost illegal in France</a><span class=\"sitebit comhead\"> (<a href=\"from?site=cnil.fr\"><span class=\"sitestr\">cnil.fr</span></a>)</span></td></tr><tr><td colspan=\"2\"></td><td class=\"subtext\">\n",
      "        <span class=\"score\" id=\"score_32254318\">185 points</span> by <a href=\"user?id=nephanth\" class=\"hnuser\">nephanth</a> <span class=\"age\" title=\"2022-07-27T18:16:47\"><a href=\"item?id=32254318\">14 hours ago</a></span> <span id=\"unv_32254318\"></span> | <a href=\"hide?id=32254318&amp;goto=news\">hide</a> | <a href=\"item?id=32254318\">133&nbsp;comments</a>              </td></tr>\n",
      "      <tr class=\"spacer\" style=\"height:5px\"></tr>\n",
      "                <tr class='athing' id='32259587'>\n",
      "      <td align=\"right\" valign=\"top\" class=\"title\"><span class=\"rank\">19.</span></td>      <td valign=\"top\" class=\"votelinks\"><center><a id='up_32259587'href='vote?id=32259587&amp;how=up&amp;goto=news'><div class='votearrow' title='upvote'></div></a></center></td><td class=\"title\"><a href=\"https://www.micahlerner.com/2022/05/15/druid-a-real-time-analytical-data-store.html\" class=\"titlelink\">Druid: A Real-Time Analytical Data Store</a><span class=\"sitebit comhead\"> (<a href=\"from?site=micahlerner.com\"><span class=\"sitestr\">micahlerner.com</span></a>)</span></td></tr><tr><td colspan=\"2\"></td><td class=\"subtext\">\n",
      "        <span class=\"score\" id=\"score_32259587\">37 points</span> by <a href=\"user?id=mlerner\" class=\"hnuser\">mlerner</a> <span class=\"age\" title=\"2022-07-28T01:57:58\"><a href=\"item?id=32259587\">6 hours ago</a></span> <span id=\"unv_32259587\"></span> | <a href=\"hide?id=32259587&amp;goto=news\">hide</a> | <a href=\"item?id=32259587\">12&nbsp;comments</a>              </td></tr>\n",
      "      <tr class=\"spacer\" style=\"height:5px\"></tr>\n",
      "                <tr class='athing' id='32261590'>\n",
      "      <td align=\"right\" valign=\"top\" class=\"title\"><span class=\"rank\">20.</span></td>      <td valign=\"top\" class=\"votelinks\"><center><a id='up_32261590'href='vote?id=32261590&amp;how=up&amp;goto=news'><div class='votearrow' title='upvote'></div></a></center></td><td class=\"title\"><a href=\"item?id=32261590\" class=\"titlelink\">Ask HN: Should a professional software dev know how many bits go in a byte?</a></td></tr><tr><td colspan=\"2\"></td><td class=\"subtext\">\n",
      "        <span class=\"score\" id=\"score_32261590\">8 points</span> by <a href=\"user?id=ssdspoimdsjvv\" class=\"hnuser\">ssdspoimdsjvv</a> <span class=\"age\" title=\"2022-07-28T07:58:45\"><a href=\"item?id=32261590\">52 minutes ago</a></span> <span id=\"unv_32261590\"></span> | <a href=\"hide?id=32261590&amp;goto=news\">hide</a> | <a href=\"item?id=32261590\">23&nbsp;comments</a>              </td></tr>\n",
      "      <tr class=\"spacer\" style=\"height:5px\"></tr>\n",
      "                <tr class='athing' id='32231525'>\n",
      "      <td align=\"right\" valign=\"top\" class=\"title\"><span class=\"rank\">21.</span></td>      <td valign=\"top\" class=\"votelinks\"><center><a id='up_32231525'href='vote?id=32231525&amp;how=up&amp;goto=news'><div class='votearrow' title='upvote'></div></a></center></td><td class=\"title\"><a href=\"https://en.wikipedia.org/wiki/Lag%C3%A2ri_Hasan_%C3%87elebi\" class=\"titlelink\">Lagâri Hasan Çelebi</a><span class=\"sitebit comhead\"> (<a href=\"from?site=wikipedia.org\"><span class=\"sitestr\">wikipedia.org</span></a>)</span></td></tr><tr><td colspan=\"2\"></td><td class=\"subtext\">\n",
      "        <span class=\"score\" id=\"score_32231525\">62 points</span> by <a href=\"user?id=benbreen\" class=\"hnuser\">benbreen</a> <span class=\"age\" title=\"2022-07-25T22:03:43\"><a href=\"item?id=32231525\">10 hours ago</a></span> <span id=\"unv_32231525\"></span> | <a href=\"hide?id=32231525&amp;goto=news\">hide</a> | <a href=\"item?id=32231525\">17&nbsp;comments</a>              </td></tr>\n",
      "      <tr class=\"spacer\" style=\"height:5px\"></tr>\n",
      "                <tr class='athing' id='32253565'>\n",
      "      <td align=\"right\" valign=\"top\" class=\"title\"><span class=\"rank\">22.</span></td>      <td valign=\"top\" class=\"votelinks\"><center><a id='up_32253565'href='vote?id=32253565&amp;how=up&amp;goto=news'><div class='votearrow' title='upvote'></div></a></center></td><td class=\"title\"><a href=\"http://llamasandmystegosaurus.blogspot.com/2017/05/alpha.html\" class=\"titlelink\">Alpha: A translation of Genesis 1</a><span class=\"sitebit comhead\"> (<a href=\"from?site=llamasandmystegosaurus.blogspot.com\"><span class=\"sitestr\">llamasandmystegosaurus.blogspot.com</span></a>)</span></td></tr><tr><td colspan=\"2\"></td><td class=\"subtext\">\n",
      "        <span class=\"score\" id=\"score_32253565\">113 points</span> by <a href=\"user?id=npilk\" class=\"hnuser\">npilk</a> <span class=\"age\" title=\"2022-07-27T17:33:14\"><a href=\"item?id=32253565\">14 hours ago</a></span> <span id=\"unv_32253565\"></span> | <a href=\"hide?id=32253565&amp;goto=news\">hide</a> | <a href=\"item?id=32253565\">22&nbsp;comments</a>              </td></tr>\n",
      "      <tr class=\"spacer\" style=\"height:5px\"></tr>\n",
      "                <tr class='athing' id='32251717'>\n",
      "      <td align=\"right\" valign=\"top\" class=\"title\"><span class=\"rank\">23.</span></td>      <td valign=\"top\" class=\"votelinks\"><center><a id='up_32251717'href='vote?id=32251717&amp;how=up&amp;goto=news'><div class='votearrow' title='upvote'></div></a></center></td><td class=\"title\"><a href=\"https://www.theguardian.com/australia-news/2022/jul/27/somerton-man-mystery-identity-solved-identified-australia\" class=\"titlelink\">Mystery of Somerton man’s identity solved after 73 years, researchers say</a><span class=\"sitebit comhead\"> (<a href=\"from?site=theguardian.com\"><span class=\"sitestr\">theguardian.com</span></a>)</span></td></tr><tr><td colspan=\"2\"></td><td class=\"subtext\">\n",
      "        <span class=\"score\" id=\"score_32251717\">89 points</span> by <a href=\"user?id=Luc\" class=\"hnuser\">Luc</a> <span class=\"age\" title=\"2022-07-27T15:33:18\"><a href=\"item?id=32251717\">12 hours ago</a></span> <span id=\"unv_32251717\"></span> | <a href=\"hide?id=32251717&amp;goto=news\">hide</a> | <a href=\"item?id=32251717\">13&nbsp;comments</a>              </td></tr>\n",
      "      <tr class=\"spacer\" style=\"height:5px\"></tr>\n",
      "                <tr class='athing' id='32257412'>\n",
      "      <td align=\"right\" valign=\"top\" class=\"title\"><span class=\"rank\">24.</span></td>      <td valign=\"top\" class=\"votelinks\"><center><a id='up_32257412'href='vote?id=32257412&amp;how=up&amp;goto=news'><div class='votearrow' title='upvote'></div></a></center></td><td class=\"title\"><a href=\"https://liam-on-linux.dreamwidth.org/85359.html\" class=\"titlelink\">Everyone seems to forget why GNOME and GNOME 3 and Unity happened</a><span class=\"sitebit comhead\"> (<a href=\"from?site=liam-on-linux.dreamwidth.org\"><span class=\"sitestr\">liam-on-linux.dreamwidth.org</span></a>)</span></td></tr><tr><td colspan=\"2\"></td><td class=\"subtext\">\n",
      "        <span class=\"score\" id=\"score_32257412\">341 points</span> by <a href=\"user?id=JetSpiegel\" class=\"hnuser\">JetSpiegel</a> <span class=\"age\" title=\"2022-07-27T21:43:35\"><a href=\"item?id=32257412\">11 hours ago</a></span> <span id=\"unv_32257412\"></span> | <a href=\"hide?id=32257412&amp;goto=news\">hide</a> | <a href=\"item?id=32257412\">260&nbsp;comments</a>              </td></tr>\n",
      "      <tr class=\"spacer\" style=\"height:5px\"></tr>\n",
      "                <tr class='athing' id='32252732'>\n",
      "      <td align=\"right\" valign=\"top\" class=\"title\"><span class=\"rank\">25.</span></td>      <td valign=\"top\" class=\"votelinks\"><center><a id='up_32252732'href='vote?id=32252732&amp;how=up&amp;goto=news'><div class='votearrow' title='upvote'></div></a></center></td><td class=\"title\"><a href=\"https://www.nytimes.com/2022/07/13/technology/ai-web-accessibility.html\" class=\"titlelink\">For blind internet users, the fix can be worse than the flaws</a><span class=\"sitebit comhead\"> (<a href=\"from?site=nytimes.com\"><span class=\"sitestr\">nytimes.com</span></a>)</span></td></tr><tr><td colspan=\"2\"></td><td class=\"subtext\">\n",
      "        <span class=\"score\" id=\"score_32252732\">58 points</span> by <a href=\"user?id=0066cc\" class=\"hnuser\">0066cc</a> <span class=\"age\" title=\"2022-07-27T16:39:34\"><a href=\"item?id=32252732\">9 hours ago</a></span> <span id=\"unv_32252732\"></span> | <a href=\"hide?id=32252732&amp;goto=news\">hide</a> | <a href=\"item?id=32252732\">25&nbsp;comments</a>              </td></tr>\n",
      "      <tr class=\"spacer\" style=\"height:5px\"></tr>\n",
      "                <tr class='athing' id='32257742'>\n",
      "      <td align=\"right\" valign=\"top\" class=\"title\"><span class=\"rank\">26.</span></td>      <td valign=\"top\" class=\"votelinks\"><center><a id='up_32257742'href='vote?id=32257742&amp;how=up&amp;goto=news'><div class='votearrow' title='upvote'></div></a></center></td><td class=\"title\"><a href=\"https://www.bloomberg.com/news/articles/2022-07-27/google-delays-phasing-out-ad-cookies-on-chrome-until-2024\" class=\"titlelink\">Google delays phasing out ad cookies on Chrome until 2024</a><span class=\"sitebit comhead\"> (<a href=\"from?site=bloomberg.com\"><span class=\"sitestr\">bloomberg.com</span></a>)</span></td></tr><tr><td colspan=\"2\"></td><td class=\"subtext\">\n",
      "        <span class=\"score\" id=\"score_32257742\">151 points</span> by <a href=\"user?id=cpeterso\" class=\"hnuser\">cpeterso</a> <span class=\"age\" title=\"2022-07-27T22:17:25\"><a href=\"item?id=32257742\">10 hours ago</a></span> <span id=\"unv_32257742\"></span> | <a href=\"hide?id=32257742&amp;goto=news\">hide</a> | <a href=\"item?id=32257742\">177&nbsp;comments</a>              </td></tr>\n",
      "      <tr class=\"spacer\" style=\"height:5px\"></tr>\n",
      "                <tr class='athing' id='32261395'>\n",
      "      <td align=\"right\" valign=\"top\" class=\"title\"><span class=\"rank\">27.</span></td>      <td valign=\"top\" class=\"votelinks\"><center><a id='up_32261395'href='vote?id=32261395&amp;how=up&amp;goto=news'><div class='votearrow' title='upvote'></div></a></center></td><td class=\"title\"><a href=\"https://www.ft.com/content/519f701f-6a05-4cf4-bc46-22cf10c7c2c0\" class=\"titlelink\">West London faces new home ban as electric grid at capacity due to data centres</a><span class=\"sitebit comhead\"> (<a href=\"from?site=ft.com\"><span class=\"sitestr\">ft.com</span></a>)</span></td></tr><tr><td colspan=\"2\"></td><td class=\"subtext\">\n",
      "        <span class=\"score\" id=\"score_32261395\">16 points</span> by <a href=\"user?id=tomduncalf\" class=\"hnuser\">tomduncalf</a> <span class=\"age\" title=\"2022-07-28T07:21:01\"><a href=\"item?id=32261395\">1 hour ago</a></span> <span id=\"unv_32261395\"></span> | <a href=\"hide?id=32261395&amp;goto=news\">hide</a> | <a href=\"item?id=32261395\">21&nbsp;comments</a>              </td></tr>\n",
      "      <tr class=\"spacer\" style=\"height:5px\"></tr>\n",
      "                <tr class='athing' id='32257887'>\n",
      "      <td align=\"right\" valign=\"top\" class=\"title\"><span class=\"rank\">28.</span></td>      <td valign=\"top\" class=\"votelinks\"><center><a id='up_32257887'href='vote?id=32257887&amp;how=up&amp;goto=news'><div class='votearrow' title='upvote'></div></a></center></td><td class=\"title\"><a href=\"item?id=32257887\" class=\"titlelink\">Ask HN: Higher order derivatives in everyday life?</a></td></tr><tr><td colspan=\"2\"></td><td class=\"subtext\">\n",
      "        <span class=\"score\" id=\"score_32257887\">151 points</span> by <a href=\"user?id=ironSkillet\" class=\"hnuser\">ironSkillet</a> <span class=\"age\" title=\"2022-07-27T22:32:29\"><a href=\"item?id=32257887\">10 hours ago</a></span> <span id=\"unv_32257887\"></span> | <a href=\"hide?id=32257887&amp;goto=news\">hide</a> | <a href=\"item?id=32257887\">97&nbsp;comments</a>              </td></tr>\n",
      "      <tr class=\"spacer\" style=\"height:5px\"></tr>\n",
      "                <tr class='athing' id='32251305'>\n",
      "      <td align=\"right\" valign=\"top\" class=\"title\"><span class=\"rank\">29.</span></td>      <td valign=\"top\" class=\"votelinks\"><center><a id='up_32251305'href='vote?id=32251305&amp;how=up&amp;goto=news'><div class='votearrow' title='upvote'></div></a></center></td><td class=\"title\"><a href=\"item?id=32251305\" class=\"titlelink\">Launch HN: Warrant (YC S21) – Authorization and access control as a service</a></td></tr><tr><td colspan=\"2\"></td><td class=\"subtext\">\n",
      "        <span class=\"score\" id=\"score_32251305\">100 points</span> by <a href=\"user?id=akajla\" class=\"hnuser\">akajla</a> <span class=\"age\" title=\"2022-07-27T15:02:17\"><a href=\"item?id=32251305\">17 hours ago</a></span> <span id=\"unv_32251305\"></span> | <a href=\"hide?id=32251305&amp;goto=news\">hide</a> | <a href=\"item?id=32251305\">52&nbsp;comments</a>              </td></tr>\n",
      "      <tr class=\"spacer\" style=\"height:5px\"></tr>\n",
      "                <tr class='athing' id='32250426'>\n",
      "      <td align=\"right\" valign=\"top\" class=\"title\"><span class=\"rank\">30.</span></td>      <td valign=\"top\" class=\"votelinks\"><center><a id='up_32250426'href='vote?id=32250426&amp;how=up&amp;goto=news'><div class='votearrow' title='upvote'></div></a></center></td><td class=\"title\"><a href=\"https://fly.io/blog/sqlite-internals-btree/\" class=\"titlelink\">SQLite Internals: Pages and B-trees</a><span class=\"sitebit comhead\"> (<a href=\"from?site=fly.io\"><span class=\"sitestr\">fly.io</span></a>)</span></td></tr><tr><td colspan=\"2\"></td><td class=\"subtext\">\n",
      "        <span class=\"score\" id=\"score_32250426\">576 points</span> by <a href=\"user?id=eatonphil\" class=\"hnuser\">eatonphil</a> <span class=\"age\" title=\"2022-07-27T13:55:54\"><a href=\"item?id=32250426\">18 hours ago</a></span> <span id=\"unv_32250426\"></span> | <a href=\"hide?id=32250426&amp;goto=news\">hide</a> | <a href=\"item?id=32250426\">125&nbsp;comments</a>              </td></tr>\n",
      "      <tr class=\"spacer\" style=\"height:5px\"></tr>\n",
      "            <tr class=\"morespace\" style=\"height:10px\"></tr><tr><td colspan=\"2\"></td>\n",
      "      <td class='title'><a href='news?p=2' class='morelink' rel='next'>More</a></td>    </tr>\n",
      "  </table>\n",
      "</td></tr>\n",
      "<tr><td><img src=\"s.gif\" height=\"10\" width=\"0\"><table width=\"100%\" cellspacing=\"0\" cellpadding=\"1\"><tr><td bgcolor=\"#ff6600\"></td></tr></table><br><center><span class=\"yclinks\"><a href=\"newsguidelines.html\">Guidelines</a>\n",
      "        | <a href=\"newsfaq.html\">FAQ</a>\n",
      "        | <a href=\"lists\">Lists</a>\n",
      "        | <a href=\"https://github.com/HackerNews/API\">API</a>\n",
      "        | <a href=\"security.html\">Security</a>\n",
      "        | <a href=\"http://www.ycombinator.com/legal/\">Legal</a>\n",
      "        | <a href=\"http://www.ycombinator.com/apply/\">Apply to YC</a>\n",
      "        | <a href=\"mailto:hn@ycombinator.com\">Contact</a></span><br><br><form method=\"get\" action=\"//hn.algolia.com/\">Search:\n",
      "          <input type=\"text\" name=\"q\" value=\"\" size=\"17\" autocorrect=\"off\" spellcheck=\"false\" autocapitalize=\"off\" autocomplete=\"false\"></form>\n",
      "            </center></td></tr>\n",
      "      </table></center></body>\n",
      "      <script type='text/javascript' src='hn.js?m197TVF2V1k9YYbnNWKh'></script>\n",
      "  </html>\n",
      "\n"
     ]
    }
   ],
   "source": [
    "import requests\n",
    "\n",
    "# Fetch a web page\n",
    "r = requests.get(\"https://news.ycombinator.com\")\n",
    "print(r.text)"
   ]
  },
  {
   "cell_type": "code",
   "execution_count": 6,
   "metadata": {},
   "outputs": [
    {
     "name": "stdout",
     "output_type": "stream",
     "text": [
      "\n",
      "        \n",
      "          \n",
      "        Hacker News\n",
      "        \n",
      "                  Hacker News\n",
      "                            new | past | comments | ask | show | jobs | submit            \n",
      "                              login\n",
      "                          \n",
      "              \n",
      "\n",
      "              \n",
      "      1.      Rust Is Actually Portable (ahgamut.github.io)\n",
      "        160 points by ahgamut 3 hours ago  | hide | 37&nbsp;comments              \n",
      "      \n",
      "                \n",
      "      2.      A Framework for Engineering Managers (github.com/jorgef)\n",
      "        31 points by aviramha 1 hour ago  | hide | 6&nbsp;comments              \n",
      "      \n",
      "                \n",
      "      3.      HypeScript: Simplified TypeScript type system in TypeScript's own type system (github.com/ronami)\n",
      "        132 points by kerneloops 6 hours ago  | hide | 42&nbsp;comments              \n",
      "      \n",
      "                \n",
      "      4.      The Poor ROI of Autonomous Trucks (2020) (medium.com/starsky-robotics-blog)\n",
      "        62 points by Danieru 5 hours ago  | hide | 53&nbsp;comments              \n",
      "      \n",
      "                \n",
      "      5.      The Harry Potter Fallacy (the-tls.co.uk)\n",
      "        53 points by yamrzou 4 hours ago  | hide | 60&nbsp;comments              \n",
      "      \n",
      "                \n",
      "      6.      Has the world become less colourful? (twitter.com/culturaltutor)\n",
      "        47 points by rubenv 55 minutes ago  | hide | 14&nbsp;comments              \n",
      "      \n",
      "                \n",
      "      7.      How to create a Python package in 2022 (mathspp.com)\n",
      "        205 points by kieto 8 hours ago  | hide | 44&nbsp;comments              \n",
      "      \n",
      "                \n",
      "      8.      Evidence for behavioural interventions looks increasingly shaky (economist.com)\n",
      "        20 points by helsinkiandrew 2 hours ago  | hide | 11&nbsp;comments              \n",
      "      \n",
      "                \n",
      "      9.      Ultra-minimal JSON schemas with TypeScript inference (github.com/ar-nelson)\n",
      "        32 points by codewithcheese 3 hours ago  | hide | 20&nbsp;comments              \n",
      "      \n",
      "                \n",
      "      10.      How Graphviz thinks the USA is laid out (2021) (plover.com)\n",
      "        138 points by bjourne 10 hours ago  | hide | 8&nbsp;comments              \n",
      "      \n",
      "                \n",
      "      11.      Upgrading from Debian Jessie to Bullseye after nearly 30 years (diziet.dreamwidth.org)\n",
      "        207 points by jklinger410 12 hours ago  | hide | 68&nbsp;comments              \n",
      "      \n",
      "                \n",
      "      12.      Mitsuba 3 Physically Based Renderer (mitsuba-renderer.org)\n",
      "        137 points by oumua_don17 10 hours ago  | hide | 41&nbsp;comments              \n",
      "      \n",
      "                \n",
      "      13.      Flipping until you are lost (11011110.github.io)\n",
      "        80 points by greghn 8 hours ago  | hide | 1&nbsp;comment              \n",
      "      \n",
      "                \n",
      "      14.      ICMP, Ping, and Traceroute – What I wish I was taught (2020) (xkln.net)\n",
      "        67 points by twooster 7 hours ago  | hide | 13&nbsp;comments              \n",
      "      \n",
      "                \n",
      "      15.      The man who made the “worst” video game in history (2019) (thehustle.co)\n",
      "        78 points by paulpauper 9 hours ago  | hide | 59&nbsp;comments              \n",
      "      \n",
      "                \n",
      "      16.      Upgrading what might be the oldest running Linux install (theregister.com)\n",
      "        59 points by theandrewbailey 6 hours ago  | hide | 6&nbsp;comments              \n",
      "      \n",
      "                \n",
      "      17.      How Wikipedia influences judicial behavior (csail.mit.edu)\n",
      "        156 points by czl_my 14 hours ago  | hide | 82&nbsp;comments              \n",
      "      \n",
      "                \n",
      "      18.      CNIL makes Google Analytics almost illegal in France (cnil.fr)\n",
      "        185 points by nephanth 14 hours ago  | hide | 133&nbsp;comments              \n",
      "      \n",
      "                \n",
      "      19.      Druid: A Real-Time Analytical Data Store (micahlerner.com)\n",
      "        37 points by mlerner 6 hours ago  | hide | 12&nbsp;comments              \n",
      "      \n",
      "                \n",
      "      20.      Ask HN: Should a professional software dev know how many bits go in a byte?\n",
      "        8 points by ssdspoimdsjvv 52 minutes ago  | hide | 23&nbsp;comments              \n",
      "      \n",
      "                \n",
      "      21.      Lagâri Hasan Çelebi (wikipedia.org)\n",
      "        62 points by benbreen 10 hours ago  | hide | 17&nbsp;comments              \n",
      "      \n",
      "                \n",
      "      22.      Alpha: A translation of Genesis 1 (llamasandmystegosaurus.blogspot.com)\n",
      "        113 points by npilk 14 hours ago  | hide | 22&nbsp;comments              \n",
      "      \n",
      "                \n",
      "      23.      Mystery of Somerton man’s identity solved after 73 years, researchers say (theguardian.com)\n",
      "        89 points by Luc 12 hours ago  | hide | 13&nbsp;comments              \n",
      "      \n",
      "                \n",
      "      24.      Everyone seems to forget why GNOME and GNOME 3 and Unity happened (liam-on-linux.dreamwidth.org)\n",
      "        341 points by JetSpiegel 11 hours ago  | hide | 260&nbsp;comments              \n",
      "      \n",
      "                \n",
      "      25.      For blind internet users, the fix can be worse than the flaws (nytimes.com)\n",
      "        58 points by 0066cc 9 hours ago  | hide | 25&nbsp;comments              \n",
      "      \n",
      "                \n",
      "      26.      Google delays phasing out ad cookies on Chrome until 2024 (bloomberg.com)\n",
      "        151 points by cpeterso 10 hours ago  | hide | 177&nbsp;comments              \n",
      "      \n",
      "                \n",
      "      27.      West London faces new home ban as electric grid at capacity due to data centres (ft.com)\n",
      "        16 points by tomduncalf 1 hour ago  | hide | 21&nbsp;comments              \n",
      "      \n",
      "                \n",
      "      28.      Ask HN: Higher order derivatives in everyday life?\n",
      "        151 points by ironSkillet 10 hours ago  | hide | 97&nbsp;comments              \n",
      "      \n",
      "                \n",
      "      29.      Launch HN: Warrant (YC S21) – Authorization and access control as a service\n",
      "        100 points by akajla 17 hours ago  | hide | 52&nbsp;comments              \n",
      "      \n",
      "                \n",
      "      30.      SQLite Internals: Pages and B-trees (fly.io)\n",
      "        576 points by eatonphil 18 hours ago  | hide | 125&nbsp;comments              \n",
      "      \n",
      "            \n",
      "      More    \n",
      "  \n",
      "\n",
      "Guidelines\n",
      "        | FAQ\n",
      "        | Lists\n",
      "        | API\n",
      "        | Security\n",
      "        | Legal\n",
      "        | Apply to YC\n",
      "        | ContactSearch:\n",
      "          \n",
      "            \n",
      "      \n",
      "      \n",
      "  \n",
      "\n"
     ]
    }
   ],
   "source": [
    "import re\n",
    "\n",
    "# Remove HTML tags using RegEx\n",
    "pattern = re.compile(r'<.*?>')  # tags look like <...>\n",
    "print(pattern.sub('', r.text))  # replace them with blank"
   ]
  },
  {
   "cell_type": "code",
   "execution_count": 7,
   "metadata": {},
   "outputs": [
    {
     "name": "stdout",
     "output_type": "stream",
     "text": [
      "\n",
      "        \n",
      "          \n",
      "        Hacker News\n",
      "        \n",
      "                  Hacker News\n",
      "                            new | past | comments | ask | show | jobs | submit            \n",
      "                              login\n",
      "                          \n",
      "              \n",
      "\n",
      "              \n",
      "      1.      Rust Is Actually Portable (ahgamut.github.io)\n",
      "        160 points by ahgamut 3 hours ago  | hide | 37 comments              \n",
      "      \n",
      "                \n",
      "      2.      A Framework for Engineering Managers (github.com/jorgef)\n",
      "        31 points by aviramha 1 hour ago  | hide | 6 comments              \n",
      "      \n",
      "                \n",
      "      3.      HypeScript: Simplified TypeScript type system in TypeScript's own type system (github.com/ronami)\n",
      "        132 points by kerneloops 6 hours ago  | hide | 42 comments              \n",
      "      \n",
      "                \n",
      "      4.      The Poor ROI of Autonomous Trucks (2020) (medium.com/starsky-robotics-blog)\n",
      "        62 points by Danieru 5 hours ago  | hide | 53 comments              \n",
      "      \n",
      "                \n",
      "      5.      The Harry Potter Fallacy (the-tls.co.uk)\n",
      "        53 points by yamrzou 4 hours ago  | hide | 60 comments              \n",
      "      \n",
      "                \n",
      "      6.      Has the world become less colourful? (twitter.com/culturaltutor)\n",
      "        47 points by rubenv 55 minutes ago  | hide | 14 comments              \n",
      "      \n",
      "                \n",
      "      7.      How to create a Python package in 2022 (mathspp.com)\n",
      "        205 points by kieto 8 hours ago  | hide | 44 comments              \n",
      "      \n",
      "                \n",
      "      8.      Evidence for behavioural interventions looks increasingly shaky (economist.com)\n",
      "        20 points by helsinkiandrew 2 hours ago  | hide | 11 comments              \n",
      "      \n",
      "                \n",
      "      9.      Ultra-minimal JSON schemas with TypeScript inference (github.com/ar-nelson)\n",
      "        32 points by codewithcheese 3 hours ago  | hide | 20 comments              \n",
      "      \n",
      "                \n",
      "      10.      How Graphviz thinks the USA is laid out (2021) (plover.com)\n",
      "        138 points by bjourne 10 hours ago  | hide | 8 comments              \n",
      "      \n",
      "                \n",
      "      11.      Upgrading from Debian Jessie to Bullseye after nearly 30 years (diziet.dreamwidth.org)\n",
      "        207 points by jklinger410 12 hours ago  | hide | 68 comments              \n",
      "      \n",
      "                \n",
      "      12.      Mitsuba 3 Physically Based Renderer (mitsuba-renderer.org)\n",
      "        137 points by oumua_don17 10 hours ago  | hide | 41 comments              \n",
      "      \n",
      "                \n",
      "      13.      Flipping until you are lost (11011110.github.io)\n",
      "        80 points by greghn 8 hours ago  | hide | 1 comment              \n",
      "      \n",
      "                \n",
      "      14.      ICMP, Ping, and Traceroute – What I wish I was taught (2020) (xkln.net)\n",
      "        67 points by twooster 7 hours ago  | hide | 13 comments              \n",
      "      \n",
      "                \n",
      "      15.      The man who made the “worst” video game in history (2019) (thehustle.co)\n",
      "        78 points by paulpauper 9 hours ago  | hide | 59 comments              \n",
      "      \n",
      "                \n",
      "      16.      Upgrading what might be the oldest running Linux install (theregister.com)\n",
      "        59 points by theandrewbailey 6 hours ago  | hide | 6 comments              \n",
      "      \n",
      "                \n",
      "      17.      How Wikipedia influences judicial behavior (csail.mit.edu)\n",
      "        156 points by czl_my 14 hours ago  | hide | 82 comments              \n",
      "      \n",
      "                \n",
      "      18.      CNIL makes Google Analytics almost illegal in France (cnil.fr)\n",
      "        185 points by nephanth 14 hours ago  | hide | 133 comments              \n",
      "      \n",
      "                \n",
      "      19.      Druid: A Real-Time Analytical Data Store (micahlerner.com)\n",
      "        37 points by mlerner 6 hours ago  | hide | 12 comments              \n",
      "      \n",
      "                \n",
      "      20.      Ask HN: Should a professional software dev know how many bits go in a byte?\n",
      "        8 points by ssdspoimdsjvv 52 minutes ago  | hide | 23 comments              \n",
      "      \n",
      "                \n",
      "      21.      Lagâri Hasan Çelebi (wikipedia.org)\n",
      "        62 points by benbreen 10 hours ago  | hide | 17 comments              \n",
      "      \n",
      "                \n",
      "      22.      Alpha: A translation of Genesis 1 (llamasandmystegosaurus.blogspot.com)\n",
      "        113 points by npilk 14 hours ago  | hide | 22 comments              \n",
      "      \n",
      "                \n",
      "      23.      Mystery of Somerton man’s identity solved after 73 years, researchers say (theguardian.com)\n",
      "        89 points by Luc 12 hours ago  | hide | 13 comments              \n",
      "      \n",
      "                \n",
      "      24.      Everyone seems to forget why GNOME and GNOME 3 and Unity happened (liam-on-linux.dreamwidth.org)\n",
      "        341 points by JetSpiegel 11 hours ago  | hide | 260 comments              \n",
      "      \n",
      "                \n",
      "      25.      For blind internet users, the fix can be worse than the flaws (nytimes.com)\n",
      "        58 points by 0066cc 9 hours ago  | hide | 25 comments              \n",
      "      \n",
      "                \n",
      "      26.      Google delays phasing out ad cookies on Chrome until 2024 (bloomberg.com)\n",
      "        151 points by cpeterso 10 hours ago  | hide | 177 comments              \n",
      "      \n",
      "                \n",
      "      27.      West London faces new home ban as electric grid at capacity due to data centres (ft.com)\n",
      "        16 points by tomduncalf 1 hour ago  | hide | 21 comments              \n",
      "      \n",
      "                \n",
      "      28.      Ask HN: Higher order derivatives in everyday life?\n",
      "        151 points by ironSkillet 10 hours ago  | hide | 97 comments              \n",
      "      \n",
      "                \n",
      "      29.      Launch HN: Warrant (YC S21) – Authorization and access control as a service\n",
      "        100 points by akajla 17 hours ago  | hide | 52 comments              \n",
      "      \n",
      "                \n",
      "      30.      SQLite Internals: Pages and B-trees (fly.io)\n",
      "        576 points by eatonphil 18 hours ago  | hide | 125 comments              \n",
      "      \n",
      "            \n",
      "      More    \n",
      "  \n",
      "\n",
      "Guidelines\n",
      "        | FAQ\n",
      "        | Lists\n",
      "        | API\n",
      "        | Security\n",
      "        | Legal\n",
      "        | Apply to YC\n",
      "        | ContactSearch:\n",
      "          \n",
      "            \n",
      "      \n",
      "      \n",
      "  \n",
      "\n"
     ]
    }
   ],
   "source": [
    "from bs4 import BeautifulSoup\n",
    "\n",
    "# Remove HTML tags using Beautiful Soup library\n",
    "soup = BeautifulSoup(r.text, \"html5lib\")\n",
    "print(soup.get_text())"
   ]
  },
  {
   "cell_type": "code",
   "execution_count": 8,
   "metadata": {
    "scrolled": true
   },
   "outputs": [
    {
     "data": {
      "text/plain": [
       "<tr class=\"athing\" id=\"32260619\">\n",
       "      <td align=\"right\" class=\"title\" valign=\"top\"><span class=\"rank\">1.</span></td>      <td class=\"votelinks\" valign=\"top\"><center><a href=\"vote?id=32260619&amp;how=up&amp;goto=news\" id=\"up_32260619\"><div class=\"votearrow\" title=\"upvote\"></div></a></center></td><td class=\"title\"><a class=\"titlelink\" href=\"https://ahgamut.github.io/2022/07/27/ape-rust-example/\">Rust Is Actually Portable</a><span class=\"sitebit comhead\"> (<a href=\"from?site=ahgamut.github.io\"><span class=\"sitestr\">ahgamut.github.io</span></a>)</span></td></tr>"
      ]
     },
     "execution_count": 8,
     "metadata": {},
     "output_type": "execute_result"
    }
   ],
   "source": [
    "# Find all articles\n",
    "summaries = soup.find_all(\"tr\", class_=\"athing\")\n",
    "summaries[0]"
   ]
  },
  {
   "cell_type": "code",
   "execution_count": 10,
   "metadata": {},
   "outputs": [
    {
     "data": {
      "text/plain": [
       "'Rust Is Actually Portable'"
      ]
     },
     "execution_count": 10,
     "metadata": {},
     "output_type": "execute_result"
    }
   ],
   "source": [
    "# Extract title\n",
    "summaries[0].find(\"a\", class_=\"titlelink\").get_text().strip()"
   ]
  },
  {
   "cell_type": "code",
   "execution_count": 11,
   "metadata": {},
   "outputs": [
    {
     "name": "stdout",
     "output_type": "stream",
     "text": [
      "30 Article summaries found. Sample:\n",
      "Rust Is Actually Portable\n"
     ]
    }
   ],
   "source": [
    "# Find all articles, extract titles\n",
    "articles = []\n",
    "summaries = soup.find_all(\"tr\", class_=\"athing\")\n",
    "for summary in summaries:\n",
    "    title = summary.find(\"a\", class_=\"titlelink\").get_text().strip()\n",
    "    articles.append((title))\n",
    "\n",
    "print(len(articles), \"Article summaries found. Sample:\")\n",
    "print(articles[0])"
   ]
  },
  {
   "cell_type": "markdown",
   "metadata": {
    "collapsed": true
   },
   "source": [
    "## Normalization"
   ]
  },
  {
   "cell_type": "markdown",
   "metadata": {},
   "source": [
    "### Case Normalization"
   ]
  },
  {
   "cell_type": "code",
   "execution_count": 13,
   "metadata": {},
   "outputs": [
    {
     "name": "stdout",
     "output_type": "stream",
     "text": [
      "The first time you see The Second Renaissance it may look boring. Look at it at least twice and definitely watch part 2. It will change your view of the matrix. Are the human people the ones who started the war ? Is AI a bad thing ?\n"
     ]
    }
   ],
   "source": [
    "# Sample text\n",
    "text = \"The first time you see The Second Renaissance it may look boring. Look at it at least twice and definitely watch part 2. It will change your view of the matrix. Are the human people the ones who started the war ? Is AI a bad thing ?\"\n",
    "print(text)"
   ]
  },
  {
   "cell_type": "code",
   "execution_count": 14,
   "metadata": {},
   "outputs": [
    {
     "name": "stdout",
     "output_type": "stream",
     "text": [
      "the first time you see the second renaissance it may look boring. look at it at least twice and definitely watch part 2. it will change your view of the matrix. are the human people the ones who started the war ? is ai a bad thing ?\n"
     ]
    }
   ],
   "source": [
    "# Convert to lowercase\n",
    "text = text.lower() \n",
    "print(text)"
   ]
  },
  {
   "cell_type": "markdown",
   "metadata": {},
   "source": [
    "### Punctuation Removal"
   ]
  },
  {
   "cell_type": "code",
   "execution_count": 15,
   "metadata": {},
   "outputs": [
    {
     "name": "stdout",
     "output_type": "stream",
     "text": [
      "the first time you see the second renaissance it may look boring  look at it at least twice and definitely watch part 2  it will change your view of the matrix  are the human people the ones who started the war   is ai a bad thing  \n"
     ]
    }
   ],
   "source": [
    "import re\n",
    "\n",
    "# Remove punctuation characters\n",
    "text = re.sub(r\"[^a-zA-Z0-9]\", \" \", text) \n",
    "print(text)"
   ]
  },
  {
   "cell_type": "markdown",
   "metadata": {},
   "source": [
    "## Tokenization"
   ]
  },
  {
   "cell_type": "code",
   "execution_count": 16,
   "metadata": {},
   "outputs": [
    {
     "name": "stdout",
     "output_type": "stream",
     "text": [
      "['the', 'first', 'time', 'you', 'see', 'the', 'second', 'renaissance', 'it', 'may', 'look', 'boring', 'look', 'at', 'it', 'at', 'least', 'twice', 'and', 'definitely', 'watch', 'part', '2', 'it', 'will', 'change', 'your', 'view', 'of', 'the', 'matrix', 'are', 'the', 'human', 'people', 'the', 'ones', 'who', 'started', 'the', 'war', 'is', 'ai', 'a', 'bad', 'thing']\n"
     ]
    }
   ],
   "source": [
    "# Split text into tokens (words)\n",
    "words = text.split()\n",
    "print(words)"
   ]
  },
  {
   "cell_type": "markdown",
   "metadata": {},
   "source": [
    "### NLTK: Natural Language ToolKit"
   ]
  },
  {
   "cell_type": "code",
   "execution_count": 17,
   "metadata": {},
   "outputs": [],
   "source": [
    "import os\n",
    "import nltk\n",
    "nltk.data.path.append(os.path.join(os.getcwd(), \"nltk_data\"))"
   ]
  },
  {
   "cell_type": "code",
   "execution_count": 18,
   "metadata": {},
   "outputs": [
    {
     "name": "stdout",
     "output_type": "stream",
     "text": [
      "Dr. Smith graduated from the University of Washington. He later started an analytics firm called Lux, which catered to enterprise customers.\n"
     ]
    }
   ],
   "source": [
    "# Another sample text\n",
    "text = \"Dr. Smith graduated from the University of Washington. He later started an analytics firm called Lux, which catered to enterprise customers.\"\n",
    "print(text)"
   ]
  },
  {
   "cell_type": "code",
   "execution_count": 19,
   "metadata": {},
   "outputs": [
    {
     "name": "stdout",
     "output_type": "stream",
     "text": [
      "['Dr.', 'Smith', 'graduated', 'from', 'the', 'University', 'of', 'Washington', '.', 'He', 'later', 'started', 'an', 'analytics', 'firm', 'called', 'Lux', ',', 'which', 'catered', 'to', 'enterprise', 'customers', '.']\n"
     ]
    }
   ],
   "source": [
    "from nltk.tokenize import word_tokenize\n",
    "\n",
    "# Split text into words using NLTK\n",
    "words = word_tokenize(text)\n",
    "print(words)"
   ]
  },
  {
   "cell_type": "code",
   "execution_count": 20,
   "metadata": {},
   "outputs": [
    {
     "name": "stdout",
     "output_type": "stream",
     "text": [
      "['Dr. Smith graduated from the University of Washington.', 'He later started an analytics firm called Lux, which catered to enterprise customers.']\n"
     ]
    }
   ],
   "source": [
    "from nltk.tokenize import sent_tokenize\n",
    "\n",
    "# Split text into sentences\n",
    "sentences = sent_tokenize(text)\n",
    "print(sentences)"
   ]
  },
  {
   "cell_type": "code",
   "execution_count": 21,
   "metadata": {},
   "outputs": [
    {
     "name": "stdout",
     "output_type": "stream",
     "text": [
      "['i', 'me', 'my', 'myself', 'we', 'our', 'ours', 'ourselves', 'you', \"you're\", \"you've\", \"you'll\", \"you'd\", 'your', 'yours', 'yourself', 'yourselves', 'he', 'him', 'his', 'himself', 'she', \"she's\", 'her', 'hers', 'herself', 'it', \"it's\", 'its', 'itself', 'they', 'them', 'their', 'theirs', 'themselves', 'what', 'which', 'who', 'whom', 'this', 'that', \"that'll\", 'these', 'those', 'am', 'is', 'are', 'was', 'were', 'be', 'been', 'being', 'have', 'has', 'had', 'having', 'do', 'does', 'did', 'doing', 'a', 'an', 'the', 'and', 'but', 'if', 'or', 'because', 'as', 'until', 'while', 'of', 'at', 'by', 'for', 'with', 'about', 'against', 'between', 'into', 'through', 'during', 'before', 'after', 'above', 'below', 'to', 'from', 'up', 'down', 'in', 'out', 'on', 'off', 'over', 'under', 'again', 'further', 'then', 'once', 'here', 'there', 'when', 'where', 'why', 'how', 'all', 'any', 'both', 'each', 'few', 'more', 'most', 'other', 'some', 'such', 'no', 'nor', 'not', 'only', 'own', 'same', 'so', 'than', 'too', 'very', 's', 't', 'can', 'will', 'just', 'don', \"don't\", 'should', \"should've\", 'now', 'd', 'll', 'm', 'o', 're', 've', 'y', 'ain', 'aren', \"aren't\", 'couldn', \"couldn't\", 'didn', \"didn't\", 'doesn', \"doesn't\", 'hadn', \"hadn't\", 'hasn', \"hasn't\", 'haven', \"haven't\", 'isn', \"isn't\", 'ma', 'mightn', \"mightn't\", 'mustn', \"mustn't\", 'needn', \"needn't\", 'shan', \"shan't\", 'shouldn', \"shouldn't\", 'wasn', \"wasn't\", 'weren', \"weren't\", 'won', \"won't\", 'wouldn', \"wouldn't\"]\n"
     ]
    }
   ],
   "source": [
    "# List stop words\n",
    "from nltk.corpus import stopwords\n",
    "print(stopwords.words(\"english\"))"
   ]
  },
  {
   "cell_type": "code",
   "execution_count": 22,
   "metadata": {},
   "outputs": [
    {
     "name": "stdout",
     "output_type": "stream",
     "text": [
      "['the', 'first', 'time', 'you', 'see', 'the', 'second', 'renaissance', 'it', 'may', 'look', 'boring', 'look', 'at', 'it', 'at', 'least', 'twice', 'and', 'definitely', 'watch', 'part', '2', 'it', 'will', 'change', 'your', 'view', 'of', 'the', 'matrix', 'are', 'the', 'human', 'people', 'the', 'ones', 'who', 'started', 'the', 'war', 'is', 'ai', 'a', 'bad', 'thing']\n"
     ]
    }
   ],
   "source": [
    "# Reset text\n",
    "text = \"The first time you see The Second Renaissance it may look boring. Look at it at least twice and definitely watch part 2. It will change your view of the matrix. Are the human people the ones who started the war ? Is AI a bad thing ?\"\n",
    "\n",
    "# Normalize it\n",
    "text = re.sub(r\"[^a-zA-Z0-9]\", \" \", text.lower())\n",
    "\n",
    "# Tokenize it\n",
    "words = text.split()\n",
    "print(words)"
   ]
  },
  {
   "cell_type": "code",
   "execution_count": 23,
   "metadata": {},
   "outputs": [
    {
     "name": "stdout",
     "output_type": "stream",
     "text": [
      "['first', 'time', 'see', 'second', 'renaissance', 'may', 'look', 'boring', 'look', 'least', 'twice', 'definitely', 'watch', 'part', '2', 'change', 'view', 'matrix', 'human', 'people', 'ones', 'started', 'war', 'ai', 'bad', 'thing']\n"
     ]
    }
   ],
   "source": [
    "# Remove stop words\n",
    "words = [w for w in words if w not in stopwords.words(\"english\")]\n",
    "print(words)"
   ]
  },
  {
   "cell_type": "markdown",
   "metadata": {},
   "source": [
    "### Sentence Parsing"
   ]
  },
  {
   "cell_type": "code",
   "execution_count": 24,
   "metadata": {},
   "outputs": [
    {
     "name": "stdout",
     "output_type": "stream",
     "text": [
      "(S\n",
      "  (NP I)\n",
      "  (VP\n",
      "    (VP (V shot) (NP (Det an) (N elephant)))\n",
      "    (PP (P in) (NP (Det my) (N pajamas)))))\n",
      "(S\n",
      "  (NP I)\n",
      "  (VP\n",
      "    (V shot)\n",
      "    (NP (Det an) (N elephant) (PP (P in) (NP (Det my) (N pajamas))))))\n"
     ]
    }
   ],
   "source": [
    "import nltk\n",
    "\n",
    "# Define a custom grammar\n",
    "my_grammar = nltk.CFG.fromstring(\"\"\"\n",
    "S -> NP VP\n",
    "PP -> P NP\n",
    "NP -> Det N | Det N PP | 'I'\n",
    "VP -> V NP | VP PP\n",
    "Det -> 'an' | 'my'\n",
    "N -> 'elephant' | 'pajamas'\n",
    "V -> 'shot'\n",
    "P -> 'in'\n",
    "\"\"\")\n",
    "parser = nltk.ChartParser(my_grammar)\n",
    "\n",
    "# Parse a sentence\n",
    "sentence = word_tokenize(\"I shot an elephant in my pajamas\")\n",
    "for tree in parser.parse(sentence):\n",
    "    print(tree)"
   ]
  },
  {
   "cell_type": "markdown",
   "metadata": {},
   "source": [
    "## Stemming & Lemmatization\n",
    "\n",
    "### Stemming"
   ]
  },
  {
   "cell_type": "code",
   "execution_count": 25,
   "metadata": {},
   "outputs": [
    {
     "name": "stdout",
     "output_type": "stream",
     "text": [
      "['first', 'time', 'see', 'second', 'renaiss', 'may', 'look', 'bore', 'look', 'least', 'twice', 'definit', 'watch', 'part', '2', 'chang', 'view', 'matrix', 'human', 'peopl', 'one', 'start', 'war', 'ai', 'bad', 'thing']\n"
     ]
    }
   ],
   "source": [
    "from nltk.stem.porter import PorterStemmer\n",
    "\n",
    "# Reduce words to their stems\n",
    "stemmed = [PorterStemmer().stem(w) for w in words]\n",
    "print(stemmed)"
   ]
  },
  {
   "cell_type": "markdown",
   "metadata": {},
   "source": [
    "### Lemmatization"
   ]
  },
  {
   "cell_type": "code",
   "execution_count": 26,
   "metadata": {},
   "outputs": [
    {
     "name": "stdout",
     "output_type": "stream",
     "text": [
      "['first', 'time', 'see', 'second', 'renaissance', 'may', 'look', 'boring', 'look', 'least', 'twice', 'definitely', 'watch', 'part', '2', 'change', 'view', 'matrix', 'human', 'people', 'one', 'started', 'war', 'ai', 'bad', 'thing']\n"
     ]
    }
   ],
   "source": [
    "from nltk.stem.wordnet import WordNetLemmatizer\n",
    "\n",
    "# Reduce words to their root form\n",
    "lemmed = [WordNetLemmatizer().lemmatize(w) for w in words]\n",
    "print(lemmed)"
   ]
  },
  {
   "cell_type": "code",
   "execution_count": 27,
   "metadata": {},
   "outputs": [
    {
     "name": "stdout",
     "output_type": "stream",
     "text": [
      "['first', 'time', 'see', 'second', 'renaissance', 'may', 'look', 'bore', 'look', 'least', 'twice', 'definitely', 'watch', 'part', '2', 'change', 'view', 'matrix', 'human', 'people', 'one', 'start', 'war', 'ai', 'bad', 'thing']\n"
     ]
    }
   ],
   "source": [
    "# Lemmatize verbs by specifying pos\n",
    "lemmed = [WordNetLemmatizer().lemmatize(w, pos='v') for w in lemmed]\n",
    "print(lemmed)"
   ]
  },
  {
   "cell_type": "code",
   "execution_count": null,
   "metadata": {},
   "outputs": [],
   "source": []
  }
 ],
 "metadata": {
  "kernelspec": {
   "display_name": "Python 3",
   "language": "python",
   "name": "python3"
  },
  "language_info": {
   "codemirror_mode": {
    "name": "ipython",
    "version": 3
   },
   "file_extension": ".py",
   "mimetype": "text/x-python",
   "name": "python",
   "nbconvert_exporter": "python",
   "pygments_lexer": "ipython3",
   "version": "3.6.3"
  }
 },
 "nbformat": 4,
 "nbformat_minor": 2
}
