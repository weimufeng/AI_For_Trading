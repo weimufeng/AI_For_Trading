{
 "cells": [
  {
   "cell_type": "markdown",
   "metadata": {},
   "source": [
    "# Covariance Matrix"
   ]
  },
  {
   "cell_type": "markdown",
   "metadata": {},
   "source": [
    "## Install libraries"
   ]
  },
  {
   "cell_type": "code",
   "execution_count": 1,
   "metadata": {},
   "outputs": [
    {
     "name": "stdout",
     "output_type": "stream",
     "text": [
      "Collecting numpy==1.14.5 (from -r requirements.txt (line 1))\n",
      "\u001b[?25l  Downloading https://files.pythonhosted.org/packages/68/1e/116ad560de97694e2d0c1843a7a0075cc9f49e922454d32f49a80eb6f1f2/numpy-1.14.5-cp36-cp36m-manylinux1_x86_64.whl (12.2MB)\n",
      "\u001b[K    100% |████████████████████████████████| 12.2MB 1.6MB/s eta 0:00:01   15% |█████                           | 1.9MB 17.1MB/s eta 0:00:01    20% |██████▋                         | 2.5MB 13.1MB/s eta 0:00:01    30% |█████████▊                      | 3.7MB 26.9MB/s eta 0:00:01    35% |███████████▏                    | 4.3MB 10.7MB/s eta 0:00:01    40% |████████████▉                   | 4.9MB 27.9MB/s eta 0:00:01    55% |█████████████████▉              | 6.8MB 27.9MB/s eta 0:00:01    75% |████████████████████████        | 9.1MB 27.4MB/s eta 0:00:01    79% |█████████████████████████▍      | 9.7MB 21.5MB/s eta 0:00:01    84% |███████████████████████████     | 10.3MB 12.6MB/s eta 0:00:01    97% |███████████████████████████████▏| 11.8MB 12.7MB/s eta 0:00:01\n",
      "\u001b[31mtensorflow 1.3.0 requires tensorflow-tensorboard<0.2.0,>=0.1.0, which is not installed.\u001b[0m\n",
      "\u001b[?25hInstalling collected packages: numpy\n",
      "  Found existing installation: numpy 1.12.1\n",
      "    Uninstalling numpy-1.12.1:\n",
      "      Successfully uninstalled numpy-1.12.1\n",
      "Successfully installed numpy-1.14.5\n"
     ]
    }
   ],
   "source": [
    "import sys\n",
    "!{sys.executable} -m pip install -r requirements.txt"
   ]
  },
  {
   "cell_type": "markdown",
   "metadata": {},
   "source": [
    "## Imports"
   ]
  },
  {
   "cell_type": "code",
   "execution_count": 2,
   "metadata": {},
   "outputs": [],
   "source": [
    "import numpy as np\n",
    "import quiz_tests"
   ]
  },
  {
   "cell_type": "markdown",
   "metadata": {},
   "source": [
    "## Hints\n",
    "\n",
    "### covariance matrix\n",
    "If we have $m$ stock series, the covariance matrix is an $m \\times m$ matrix containing the covariance between each pair of stocks.  We can use [numpy.cov](https://docs.scipy.org/doc/numpy/reference/generated/numpy.cov.html) to get the covariance.  We give it a 2D array in which each row is a stock series, and each column is an observation at the same period of time.\n",
    "\n",
    "The covariance matrix $\\mathbf{P} = \n",
    "\\begin{bmatrix}\n",
    "\\sigma^2_{1,1} & ... & \\sigma^2_{1,m} \\\\ \n",
    "... & ... & ...\\\\\n",
    "\\sigma_{m,1} & ... & \\sigma^2_{m,m}  \\\\\n",
    "\\end{bmatrix}$"
   ]
  },
  {
   "cell_type": "markdown",
   "metadata": {},
   "source": [
    "## Quiz"
   ]
  },
  {
   "cell_type": "code",
   "execution_count": 4,
   "metadata": {},
   "outputs": [
    {
     "name": "stdout",
     "output_type": "stream",
     "text": [
      "Tests Passed\n"
     ]
    }
   ],
   "source": [
    "import numpy as np\n",
    "\n",
    "def covariance_matrix(returns):\n",
    "    \"\"\"\n",
    "    Create a function that takes the return series of a set of stocks\n",
    "    and calculates the covariance matrix.\n",
    "    \n",
    "    Parameters\n",
    "    ----------\n",
    "    returns : numpy.ndarray\n",
    "        2D array containing stock return series in each row.\n",
    "                \n",
    "    Returns\n",
    "    -------\n",
    "    x : np.ndarray\n",
    "        A numpy ndarray containing the covariance matrix\n",
    "    \"\"\"\n",
    "    \n",
    "    #covariance matrix of returns\n",
    "    cov = np.cov(returns)\n",
    "        \n",
    "    return cov\n",
    "\n",
    "quiz_tests.test_covariance_matrix(covariance_matrix)"
   ]
  },
  {
   "cell_type": "code",
   "execution_count": 5,
   "metadata": {},
   "outputs": [
    {
     "name": "stdout",
     "output_type": "stream",
     "text": [
      "The covariance matrix is \n",
      "[[0.08138925 0.08138926 0.08138925]\n",
      " [0.08138926 0.08138926 0.08138926]\n",
      " [0.08138925 0.08138926 0.08138925]]\n"
     ]
    }
   ],
   "source": [
    "\"\"\"Test with a 3 simulated stock return series\"\"\"\n",
    "days_per_year = 252\n",
    "years = 3\n",
    "total_days = days_per_year * years\n",
    "\n",
    "return_market = np.random.normal(loc=0.05, scale=0.3, size=days_per_year)\n",
    "return_1 = np.random.uniform(low=-0.000001, high=.000001, size=days_per_year) + return_market\n",
    "return_2 = np.random.uniform(low=-0.000001, high=.000001, size=days_per_year) + return_market\n",
    "return_3 = np.random.uniform(low=-0.000001, high=.000001, size=days_per_year) + return_market\n",
    "returns = np.array([return_1, return_2, return_3])\n",
    "\n",
    "\"\"\"try out your function\"\"\"\n",
    "cov = covariance_matrix(returns)\n",
    "\n",
    "print(f\"The covariance matrix is \\n{cov}\")"
   ]
  },
  {
   "cell_type": "code",
   "execution_count": 7,
   "metadata": {},
   "outputs": [
    {
     "data": {
      "text/plain": [
       "array([ 0.28778225,  0.41811723, -0.22848425,  0.07470945,  0.2183044 ,\n",
       "       -0.34456063,  0.27432509, -0.3247947 ,  0.24073305,  0.36844922,\n",
       "       -0.27682295, -0.04936703,  0.70580093,  0.1480238 , -0.02951248,\n",
       "        0.14607241,  0.27934691,  0.27136947,  0.02258972, -0.27475431,\n",
       "        0.14576216,  0.01024956, -0.22125441,  0.20933964,  0.12059867,\n",
       "        0.02319289, -0.13432949,  0.14203048,  0.01853986,  0.10060111,\n",
       "        0.32557776,  0.06400576, -0.22504878, -0.06769395,  0.0162533 ,\n",
       "        0.21928094,  0.09760134, -0.15913914,  0.4147278 ,  0.42593995,\n",
       "       -0.0466692 , -0.1238378 ,  0.12579318, -0.18149194, -0.04163931,\n",
       "        0.09181595,  0.26015698, -0.05456864,  0.3423297 , -0.29599191,\n",
       "        0.22166788, -0.21869775, -0.20588916, -0.11337376,  0.16891969,\n",
       "       -0.63092956, -0.12627907, -0.19066613, -0.40181673, -0.52982972,\n",
       "        0.28904301, -0.0303863 , -0.61342372,  0.12363694, -0.34212943,\n",
       "        0.37196259,  0.02937795,  0.34446174,  0.3089067 ,  0.14018271,\n",
       "        0.10536305, -0.04565043,  0.40175122,  0.50824135, -0.16510554,\n",
       "       -0.005999  ,  0.18053568, -0.19487457, -0.02811286, -0.27993846,\n",
       "       -0.47818426,  0.42021707, -0.0545426 ,  0.73016483, -0.17983086,\n",
       "       -0.02702425, -0.17138966,  0.4156834 , -0.20780134,  0.01861207,\n",
       "       -0.12451519,  0.36161957,  0.14690004,  0.20383355, -0.04538009,\n",
       "       -0.17743682,  0.54538203,  0.89033386, -0.04963036, -0.15885352,\n",
       "        0.30523801,  0.09463129,  0.06461027, -0.11605175,  0.02055762,\n",
       "       -0.2491516 ,  0.3237068 ,  0.03688661,  0.47551612, -0.50499587,\n",
       "        0.32870978, -0.10144926,  0.15700145,  0.46775475,  0.72440731,\n",
       "        0.83031902, -0.30630355,  0.0225344 , -0.1133195 ,  0.60469159,\n",
       "       -0.01760311,  0.07995122,  0.10205692, -0.15328134, -0.26742908,\n",
       "        0.17538021,  0.25626928, -0.10551047,  0.20384492,  0.0928077 ,\n",
       "        0.25188688,  0.03185689, -0.32033444,  0.48478217,  0.13605641,\n",
       "        0.2098369 , -0.15249206,  0.14922869,  0.01593999,  0.07777747,\n",
       "        0.18798598,  0.2334333 , -0.14866298, -0.27738054,  0.14754363,\n",
       "       -0.38041439, -0.35018704, -0.30562986,  0.52693284,  0.14899665,\n",
       "       -0.04891475, -0.03485667, -0.22925413,  0.13687632,  0.24678385,\n",
       "        0.2316143 ,  0.29378225, -0.02025429, -0.20705318, -0.49911229,\n",
       "       -0.12543396,  0.39106286,  0.27388794, -0.18823526,  0.17566231,\n",
       "        0.06223024,  0.21610507, -0.49987977, -0.0774652 , -0.20859912,\n",
       "        0.0597638 , -0.28950336,  0.23499279,  0.17566327,  0.11309659,\n",
       "        0.08332212, -0.06968513,  0.57315338,  0.31966346,  0.42187151,\n",
       "       -0.24032392,  0.04843777, -0.13827043,  0.20414966,  0.41124366,\n",
       "       -0.18590616,  0.32019069, -0.08704811, -0.23396515,  0.68025118,\n",
       "       -0.55299799, -0.1602908 ,  0.07258524,  0.58295752, -0.09549273,\n",
       "       -0.10186664,  0.14137176, -0.57780197, -0.38510019,  0.20200208,\n",
       "        0.02658074, -0.25583971,  0.24974001, -0.17245386, -0.0444198 ,\n",
       "       -0.22642609,  0.19457061,  0.37465883,  0.20858177, -0.41568118,\n",
       "        0.43738748,  0.24203998, -0.10844646,  0.03332308,  0.26190011,\n",
       "        0.1929337 ,  0.42632183, -0.23244942,  0.4350925 ,  0.0706527 ,\n",
       "       -0.19575627,  0.08162325, -0.18146041, -0.01299285,  0.40207504,\n",
       "       -0.40130212,  0.41563119,  0.76529476, -0.36628925, -0.1114789 ,\n",
       "        0.25810126, -0.05327565, -0.18000239,  0.57908671,  0.31241905,\n",
       "       -0.31889763, -0.33295963,  0.35663929, -0.05810139,  0.06080027,\n",
       "       -0.2919193 ,  0.16405587, -0.31921825, -0.10248519, -0.33023749,\n",
       "       -0.00333759, -0.01889058, -0.06794285,  0.0443801 ,  0.09154059,\n",
       "       -0.41594727,  0.3390635 ])"
      ]
     },
     "execution_count": 7,
     "metadata": {},
     "output_type": "execute_result"
    }
   ],
   "source": [
    "return_1"
   ]
  },
  {
   "cell_type": "markdown",
   "metadata": {},
   "source": [
    "If you're stuck, you can also check out the solution [here](m3l4_covariance_solution.ipynb)"
   ]
  },
  {
   "cell_type": "code",
   "execution_count": null,
   "metadata": {},
   "outputs": [],
   "source": []
  }
 ],
 "metadata": {
  "kernelspec": {
   "display_name": "Python 3",
   "language": "python",
   "name": "python3"
  },
  "language_info": {
   "codemirror_mode": {
    "name": "ipython",
    "version": 3
   },
   "file_extension": ".py",
   "mimetype": "text/x-python",
   "name": "python",
   "nbconvert_exporter": "python",
   "pygments_lexer": "ipython3",
   "version": "3.6.3"
  }
 },
 "nbformat": 4,
 "nbformat_minor": 2
}
