{
 "cells": [
  {
   "cell_type": "markdown",
   "metadata": {},
   "source": [
    "# Portfolio Optimization using cvxpy"
   ]
  },
  {
   "cell_type": "markdown",
   "metadata": {},
   "source": [
    "## Install cvxpy and other libraries"
   ]
  },
  {
   "cell_type": "code",
   "execution_count": 1,
   "metadata": {},
   "outputs": [
    {
     "name": "stdout",
     "output_type": "stream",
     "text": [
      "Requirement already satisfied: colour==0.1.5 in /opt/conda/lib/python3.6/site-packages (from -r requirements.txt (line 1)) (0.1.5)\n",
      "Collecting cvxpy==1.0.3 (from -r requirements.txt (line 2))\n",
      "\u001b[?25l  Downloading https://files.pythonhosted.org/packages/a1/59/2613468ffbbe3a818934d06b81b9f4877fe054afbf4f99d2f43f398a0b34/cvxpy-1.0.3.tar.gz (880kB)\n",
      "\u001b[K    100% |████████████████████████████████| 880kB 6.2MB/s eta 0:00:01\n",
      "\u001b[?25hRequirement already satisfied: cycler==0.10.0 in /opt/conda/lib/python3.6/site-packages/cycler-0.10.0-py3.6.egg (from -r requirements.txt (line 3)) (0.10.0)\n",
      "Collecting numpy==1.14.5 (from -r requirements.txt (line 4))\n",
      "\u001b[?25l  Downloading https://files.pythonhosted.org/packages/68/1e/116ad560de97694e2d0c1843a7a0075cc9f49e922454d32f49a80eb6f1f2/numpy-1.14.5-cp36-cp36m-manylinux1_x86_64.whl (12.2MB)\n",
      "\u001b[K    100% |████████████████████████████████| 12.2MB 772kB/s ta 0:00:011   15% |█████                           | 1.9MB 29.5MB/s eta 0:00:01    25% |████████▏                       | 3.1MB 11.0MB/s eta 0:00:01    32% |██████████▍                     | 3.9MB 11.3MB/s eta 0:00:01    33% |██████████▉                     | 4.1MB 6.2MB/s eta 0:00:02    37% |████████████▏                   | 4.6MB 3.8MB/s eta 0:00:02    59% |███████████████████             | 7.3MB 27.6MB/s eta 0:00:01    67% |█████████████████████▋          | 8.2MB 11.9MB/s eta 0:00:01    72% |███████████████████████▎        | 8.8MB 6.3MB/s eta 0:00:01    75% |████████████████████████        | 9.2MB 7.5MB/s eta 0:00:01    83% |██████████████████████████▋     | 10.1MB 6.2MB/s eta 0:00:01    85% |███████████████████████████▍    | 10.4MB 6.3MB/s eta 0:00:01\n",
      "\u001b[?25hCollecting pandas==0.21.1 (from -r requirements.txt (line 5))\n",
      "\u001b[?25l  Downloading https://files.pythonhosted.org/packages/3a/e1/6c514df670b887c77838ab856f57783c07e8760f2e3d5939203a39735e0e/pandas-0.21.1-cp36-cp36m-manylinux1_x86_64.whl (26.2MB)\n",
      "\u001b[K    100% |████████████████████████████████| 26.2MB 355kB/s ta 0:00:011  3% |█▏                              | 921kB 7.0MB/s eta 0:00:04    4% |█▌                              | 1.2MB 6.4MB/s eta 0:00:04    8% |██▋                             | 2.2MB 6.2MB/s eta 0:00:04    9% |███                             | 2.5MB 8.5MB/s eta 0:00:03    12% |████                            | 3.2MB 5.0MB/s eta 0:00:05    19% |██████                          | 5.0MB 5.3MB/s eta 0:00:05    23% |███████▊                        | 6.3MB 6.4MB/s eta 0:00:04    30% |█████████▊                      | 7.9MB 6.6MB/s eta 0:00:03    40% |█████████████                   | 10.6MB 11.8MB/s eta 0:00:02    53% |█████████████████▏              | 14.1MB 8.7MB/s eta 0:00:02    54% |█████████████████▋              | 14.4MB 6.9MB/s eta 0:00:02    57% |██████████████████▎             | 15.0MB 6.1MB/s eta 0:00:02    61% |███████████████████▉            | 16.2MB 11.9MB/s eta 0:00:01    63% |████████████████████▍           | 16.8MB 11.1MB/s eta 0:00:01    64% |████████████████████▊           | 17.0MB 3.1MB/s eta 0:00:04    65% |█████████████████████           | 17.1MB 4.3MB/s eta 0:00:03    66% |█████████████████████▏          | 17.4MB 7.6MB/s eta 0:00:02    71% |███████████████████████         | 18.8MB 8.3MB/s eta 0:00:01    72% |███████████████████████▎        | 19.1MB 6.1MB/s eta 0:00:02    74% |████████████████████████        | 19.6MB 5.6MB/s eta 0:00:02    75% |████████████████████████▎       | 19.9MB 7.1MB/s eta 0:00:01    80% |█████████████████████████▋      | 21.0MB 5.7MB/s eta 0:00:01    82% |██████████████████████████▎     | 21.5MB 7.7MB/s eta 0:00:01    83% |██████████████████████████▊     | 21.9MB 11.4MB/s eta 0:00:01    94% |██████████████████████████████▏ | 24.7MB 4.9MB/s eta 0:00:01\n",
      "\u001b[?25hCollecting plotly==2.2.3 (from -r requirements.txt (line 6))\n",
      "\u001b[?25l  Downloading https://files.pythonhosted.org/packages/99/a6/8214b6564bf4ace9bec8a26e7f89832792be582c042c47c912d3201328a0/plotly-2.2.3.tar.gz (1.1MB)\n",
      "\u001b[K    100% |████████████████████████████████| 1.1MB 4.6MB/s eta 0:00:01    60% |███████████████████▍            | 655kB 9.3MB/s eta 0:00:01\n",
      "\u001b[?25hRequirement already satisfied: pyparsing==2.2.0 in /opt/conda/lib/python3.6/site-packages (from -r requirements.txt (line 7)) (2.2.0)\n",
      "Requirement already satisfied: python-dateutil==2.6.1 in /opt/conda/lib/python3.6/site-packages (from -r requirements.txt (line 8)) (2.6.1)\n",
      "Requirement already satisfied: pytz==2017.3 in /opt/conda/lib/python3.6/site-packages (from -r requirements.txt (line 9)) (2017.3)\n",
      "Requirement already satisfied: requests==2.18.4 in /opt/conda/lib/python3.6/site-packages (from -r requirements.txt (line 10)) (2.18.4)\n",
      "Collecting scipy==1.0.0 (from -r requirements.txt (line 11))\n",
      "\u001b[?25l  Downloading https://files.pythonhosted.org/packages/d8/5e/caa01ba7be11600b6a9d39265440d7b3be3d69206da887c42bef049521f2/scipy-1.0.0-cp36-cp36m-manylinux1_x86_64.whl (50.0MB)\n",
      "\u001b[K    100% |████████████████████████████████| 50.0MB 389kB/s ta 0:00:011 0% |                                | 122kB 8.5MB/s eta 0:00:06    1% |▍                               | 573kB 9.7MB/s eta 0:00:06    3% |█▎                              | 2.0MB 10.6MB/s eta 0:00:05    5% |█▉                              | 2.8MB 8.4MB/s eta 0:00:06    7% |██▍                             | 3.7MB 11.2MB/s eta 0:00:05    13% |████▌                           | 7.0MB 6.6MB/s eta 0:00:07    14% |████▊                           | 7.3MB 8.0MB/s eta 0:00:06    17% |█████▋                          | 8.7MB 11.2MB/s eta 0:00:04    18% |█████▉                          | 9.2MB 11.1MB/s eta 0:00:04    19% |██████▏                         | 9.6MB 11.3MB/s eta 0:00:04    20% |██████▍                         | 10.0MB 9.5MB/s eta 0:00:05    21% |██████▊                         | 10.5MB 9.2MB/s eta 0:00:05    24% |████████                        | 12.3MB 6.8MB/s eta 0:00:06    25% |████████▏                       | 12.8MB 10.5MB/s eta 0:00:04    27% |████████▉                       | 13.8MB 14.5MB/s eta 0:00:03    28% |█████████                       | 14.1MB 11.2MB/s eta 0:00:04    29% |█████████▍                      | 14.7MB 10.6MB/s eta 0:00:04    30% |█████████▋                      | 15.0MB 11.4MB/s eta 0:00:04    31% |██████████                      | 15.6MB 11.3MB/s eta 0:00:04    32% |██████████▎                     | 16.0MB 20.6MB/s eta 0:00:02    32% |██████████▌                     | 16.4MB 11.5MB/s eta 0:00:03    33% |██████████▉                     | 16.9MB 8.6MB/s eta 0:00:04    34% |███████████                     | 17.3MB 9.1MB/s eta 0:00:04    36% |███████████▋                    | 18.2MB 7.9MB/s eta 0:00:05    39% |████████████▊                   | 19.9MB 10.3MB/s eta 0:00:03    41% |█████████████▍                  | 20.9MB 12.1MB/s eta 0:00:03    42% |█████████████▋                  | 21.4MB 8.2MB/s eta 0:00:04    43% |██████████████                  | 21.8MB 17.5MB/s eta 0:00:02    44% |██████████████▏                 | 22.2MB 11.4MB/s eta 0:00:03    46% |██████████████▉                 | 23.1MB 19.9MB/s eta 0:00:02    47% |███████████████                 | 23.5MB 7.5MB/s eta 0:00:04    48% |███████████████▋                | 24.5MB 9.7MB/s eta 0:00:03    50% |████████████████▎               | 25.5MB 21.4MB/s eta 0:00:02    52% |████████████████▉               | 26.3MB 8.3MB/s eta 0:00:03    53% |█████████████████▏              | 26.8MB 7.7MB/s eta 0:00:03    55% |██████████████████              | 28.0MB 9.3MB/s eta 0:00:03    56% |██████████████████▏             | 28.3MB 10.0MB/s eta 0:00:03    58% |██████████████████▉             | 29.4MB 21.0MB/s eta 0:00:01    59% |███████████████████▏            | 30.0MB 7.0MB/s eta 0:00:03    64% |████████████████████▋           | 32.3MB 20.9MB/s eta 0:00:01    65% |█████████████████████           | 33.0MB 10.7MB/s eta 0:00:02    67% |█████████████████████▋          | 33.7MB 11.3MB/s eta 0:00:02    68% |██████████████████████          | 34.5MB 12.0MB/s eta 0:00:02    69% |██████████████████████▍         | 35.0MB 10.8MB/s eta 0:00:02    72% |███████████████████████▏        | 36.2MB 9.4MB/s eta 0:00:02    73% |███████████████████████▍        | 36.6MB 8.8MB/s eta 0:00:02    74% |███████████████████████▉        | 37.3MB 8.9MB/s eta 0:00:02    75% |████████████████████████        | 37.7MB 7.6MB/s eta 0:00:02    75% |████████████████████████▎       | 38.0MB 8.7MB/s eta 0:00:02    77% |█████████████████████████       | 39.0MB 12.4MB/s eta 0:00:01    79% |█████████████████████████▎      | 39.5MB 9.6MB/s eta 0:00:02    80% |█████████████████████████▋      | 40.0MB 12.4MB/s eta 0:00:01    80% |█████████████████████████▉      | 40.5MB 10.7MB/s eta 0:00:01    81% |██████████████████████████▏     | 40.9MB 12.7MB/s eta 0:00:01    84% |███████████████████████████     | 42.1MB 8.8MB/s eta 0:00:01    85% |███████████████████████████▎    | 42.7MB 12.1MB/s eta 0:00:01    87% |████████████████████████████    | 43.7MB 9.3MB/s eta 0:00:01    87% |████████████████████████████    | 43.9MB 984kB/s eta 0:00:07    88% |████████████████████████████▍   | 44.4MB 13.0MB/s eta 0:00:01    89% |████████████████████████████▊   | 44.9MB 7.6MB/s eta 0:00:01    92% |█████████████████████████████▌  | 46.2MB 7.6MB/s eta 0:00:01    93% |██████████████████████████████  | 47.0MB 13.0MB/s eta 0:00:01    95% |██████████████████████████████▍ | 47.6MB 15.9MB/s eta 0:00:01    95% |██████████████████████████████▊ | 48.0MB 6.7MB/s eta 0:00:01    97% |███████████████████████████████ | 48.5MB 12.1MB/s eta 0:00:01    98% |███████████████████████████████▍| 49.1MB 7.9MB/s eta 0:00:01    99% |███████████████████████████████▊| 49.7MB 11.6MB/s eta 0:00:01\n",
      "\u001b[?25hRequirement already satisfied: scikit-learn==0.19.1 in /opt/conda/lib/python3.6/site-packages (from -r requirements.txt (line 12)) (0.19.1)\n",
      "Requirement already satisfied: six==1.11.0 in /opt/conda/lib/python3.6/site-packages (from -r requirements.txt (line 13)) (1.11.0)\n",
      "Collecting tqdm==4.19.5 (from -r requirements.txt (line 14))\n",
      "\u001b[?25l  Downloading https://files.pythonhosted.org/packages/71/3c/341b4fa23cb3abc335207dba057c790f3bb329f6757e1fcd5d347bcf8308/tqdm-4.19.5-py2.py3-none-any.whl (51kB)\n",
      "\u001b[K    100% |████████████████████████████████| 61kB 2.9MB/s ta 0:00:01    39% |████████████▊                   | 20kB 11.3MB/s eta 0:00:01\n",
      "\u001b[?25hCollecting osqp (from cvxpy==1.0.3->-r requirements.txt (line 2))\n",
      "\u001b[?25l  Downloading https://files.pythonhosted.org/packages/de/90/aee4a9a72bd8643c0dd2cbc1735c5f4fa9fc6c0131935b60cb167eaeb18b/osqp-0.6.2.post5-cp36-cp36m-manylinux_2_5_x86_64.manylinux1_x86_64.manylinux_2_17_x86_64.manylinux2014_x86_64.whl (232kB)\n",
      "\u001b[K    100% |████████████████████████████████| 235kB 3.6MB/s ta 0:00:01    70% |██████████████████████▌         | 163kB 6.5MB/s eta 0:00:01\n",
      "\u001b[?25hCollecting ecos>=2 (from cvxpy==1.0.3->-r requirements.txt (line 2))\n",
      "\u001b[?25l  Downloading https://files.pythonhosted.org/packages/08/0c/a9195eb04d6b58572a4379d98661d138066da97fb8dbbdc4e104452e8377/ecos-2.0.10.tar.gz (135kB)\n",
      "\u001b[K    100% |████████████████████████████████| 143kB 4.2MB/s ta 0:00:01    90% |█████████████████████████████   | 122kB 7.1MB/s eta 0:00:01\n",
      "\u001b[?25h  Installing build dependencies ... \u001b[?25ldone\n",
      "\u001b[?25hCollecting scs>=1.1.3 (from cvxpy==1.0.3->-r requirements.txt (line 2))\n",
      "\u001b[?25l  Downloading https://files.pythonhosted.org/packages/f0/a4/e3cbddd60818e7e900fd0a8e0f0555692c353be7aa8ca1a8299a05c20699/scs-3.2.0.tar.gz (657kB)\n",
      "\u001b[K    100% |████████████████████████████████| 665kB 5.0MB/s ta 0:00:011    57% |██████████████████▌             | 378kB 12.4MB/s eta 0:00:01\n",
      "\u001b[?25h  Installing build dependencies ... \u001b[?25ldone\n",
      "\u001b[?25hCollecting multiprocess (from cvxpy==1.0.3->-r requirements.txt (line 2))\n",
      "\u001b[?25l  Downloading https://files.pythonhosted.org/packages/df/d0/c3011a5bb77f307e68682a5046cce1a2c6591267bf24b5bf3fc4130bb39d/multiprocess-0.70.12.2-py36-none-any.whl (106kB)\n",
      "\u001b[K    100% |████████████████████████████████| 112kB 5.8MB/s ta 0:00:01\n",
      "\u001b[?25hRequirement already satisfied: fastcache in /opt/conda/lib/python3.6/site-packages (from cvxpy==1.0.3->-r requirements.txt (line 2)) (1.0.2)\n",
      "Requirement already satisfied: toolz in /opt/conda/lib/python3.6/site-packages (from cvxpy==1.0.3->-r requirements.txt (line 2)) (0.8.2)\n",
      "Requirement already satisfied: decorator>=4.0.6 in /opt/conda/lib/python3.6/site-packages (from plotly==2.2.3->-r requirements.txt (line 6)) (4.0.11)\n",
      "Requirement already satisfied: nbformat>=4.2 in /opt/conda/lib/python3.6/site-packages (from plotly==2.2.3->-r requirements.txt (line 6)) (4.4.0)\n",
      "Requirement already satisfied: chardet<3.1.0,>=3.0.2 in /opt/conda/lib/python3.6/site-packages (from requests==2.18.4->-r requirements.txt (line 10)) (3.0.4)\n",
      "Requirement already satisfied: idna<2.7,>=2.5 in /opt/conda/lib/python3.6/site-packages (from requests==2.18.4->-r requirements.txt (line 10)) (2.6)\n",
      "Requirement already satisfied: urllib3<1.23,>=1.21.1 in /opt/conda/lib/python3.6/site-packages (from requests==2.18.4->-r requirements.txt (line 10)) (1.22)\n",
      "Requirement already satisfied: certifi>=2017.4.17 in /opt/conda/lib/python3.6/site-packages (from requests==2.18.4->-r requirements.txt (line 10)) (2019.11.28)\n",
      "Collecting qdldl (from osqp->cvxpy==1.0.3->-r requirements.txt (line 2))\n",
      "\u001b[?25l  Downloading https://files.pythonhosted.org/packages/08/8c/35bf914d768e29954617113597ed313340da730f4a8a58374a0dc70295c5/qdldl-0.1.5.post2.tar.gz (69kB)\n",
      "\u001b[K    100% |████████████████████████████████| 71kB 4.1MB/s ta 0:00:01\n",
      "\u001b[?25hCollecting dill>=0.3.4 (from multiprocess->cvxpy==1.0.3->-r requirements.txt (line 2))\n",
      "\u001b[?25l  Downloading https://files.pythonhosted.org/packages/b6/c3/973676ceb86b60835bb3978c6db67a5dc06be6cfdbd14ef0f5a13e3fc9fd/dill-0.3.4-py2.py3-none-any.whl (86kB)\n",
      "\u001b[K    100% |████████████████████████████████| 92kB 5.5MB/s ta 0:00:011\n",
      "\u001b[?25hRequirement already satisfied: traitlets>=4.1 in /opt/conda/lib/python3.6/site-packages (from nbformat>=4.2->plotly==2.2.3->-r requirements.txt (line 6)) (4.3.2)\n",
      "Requirement already satisfied: jupyter-core in /opt/conda/lib/python3.6/site-packages (from nbformat>=4.2->plotly==2.2.3->-r requirements.txt (line 6)) (4.4.0)\n",
      "Requirement already satisfied: ipython-genutils in /opt/conda/lib/python3.6/site-packages (from nbformat>=4.2->plotly==2.2.3->-r requirements.txt (line 6)) (0.2.0)\n",
      "Requirement already satisfied: jsonschema!=2.5.0,>=2.4 in /opt/conda/lib/python3.6/site-packages (from nbformat>=4.2->plotly==2.2.3->-r requirements.txt (line 6)) (2.6.0)\n",
      "Building wheels for collected packages: cvxpy, plotly, ecos, scs, qdldl\n",
      "  Running setup.py bdist_wheel for cvxpy ... \u001b[?25ldone\n",
      "\u001b[?25h  Stored in directory: /root/.cache/pip/wheels/2b/60/0b/0c2596528665e21d698d6f84a3406c52044c7b4ca6ac737cf3\n",
      "  Running setup.py bdist_wheel for plotly ... \u001b[?25ldone\n",
      "\u001b[?25h  Stored in directory: /root/.cache/pip/wheels/98/54/81/dd92d5b0858fac680cd7bdb8800eb26c001dd9f5dc8b1bc0ba\n",
      "  Running setup.py bdist_wheel for ecos ... \u001b[?25ldone\n",
      "\u001b[?25h  Stored in directory: /root/.cache/pip/wheels/34/83/48/2192df21a678bf0fde91e59ec6ff78525bb3d99919397d6a8c\n",
      "  Running setup.py bdist_wheel for scs ... \u001b[?25ldone\n",
      "\u001b[?25h  Stored in directory: /root/.cache/pip/wheels/3e/22/88/9a0da5b5c39fb5a10ad2e7c6192a268487d117770e24233980\n",
      "  Running setup.py bdist_wheel for qdldl ... \u001b[?25ldone\n",
      "\u001b[?25h  Stored in directory: /root/.cache/pip/wheels/ad/28/83/0674c1f775e91a57943cf178dedf3a40cf48d9bf63209bd76c\n",
      "Successfully built cvxpy plotly ecos scs qdldl\n",
      "\u001b[31mtensorflow 1.3.0 requires tensorflow-tensorboard<0.2.0,>=0.1.0, which is not installed.\u001b[0m\n",
      "\u001b[31mmoviepy 0.2.3.2 has requirement tqdm==4.11.2, but you'll have tqdm 4.19.5 which is incompatible.\u001b[0m\n",
      "Installing collected packages: numpy, scipy, qdldl, osqp, ecos, scs, dill, multiprocess, cvxpy, pandas, plotly, tqdm\n",
      "  Found existing installation: numpy 1.12.1\n",
      "    Uninstalling numpy-1.12.1:\n",
      "      Successfully uninstalled numpy-1.12.1\n",
      "  Found existing installation: scipy 1.2.1\n",
      "    Uninstalling scipy-1.2.1:\n",
      "      Successfully uninstalled scipy-1.2.1\n",
      "  Found existing installation: dill 0.2.7.1\n",
      "    Uninstalling dill-0.2.7.1:\n",
      "      Successfully uninstalled dill-0.2.7.1\n",
      "  Found existing installation: pandas 0.23.3\n",
      "    Uninstalling pandas-0.23.3:\n",
      "      Successfully uninstalled pandas-0.23.3\n",
      "  Found existing installation: plotly 2.0.15\n",
      "    Uninstalling plotly-2.0.15:\n",
      "      Successfully uninstalled plotly-2.0.15\n",
      "  Found existing installation: tqdm 4.11.2\n",
      "    Uninstalling tqdm-4.11.2:\n",
      "      Successfully uninstalled tqdm-4.11.2\n",
      "Successfully installed cvxpy-1.0.3 dill-0.3.4 ecos-2.0.10 multiprocess-0.70.12.2 numpy-1.14.5 osqp-0.6.2.post5 pandas-0.21.1 plotly-2.2.3 qdldl-0.1.5.post2 scipy-1.0.0 scs-3.2.0 tqdm-4.19.5\n"
     ]
    }
   ],
   "source": [
    "import sys\n",
    "!{sys.executable} -m pip install -r requirements.txt"
   ]
  },
  {
   "cell_type": "markdown",
   "metadata": {},
   "source": [
    "## Imports"
   ]
  },
  {
   "cell_type": "code",
   "execution_count": 2,
   "metadata": {},
   "outputs": [],
   "source": [
    "import cvxpy as cvx\n",
    "import numpy as np\n",
    "import quiz_tests"
   ]
  },
  {
   "cell_type": "markdown",
   "metadata": {},
   "source": [
    "## Optimization with cvxpy\n",
    "\n",
    "http://www.cvxpy.org/\n",
    "\n",
    "Practice using cvxpy to solve a simple optimization problem. Find the optimal weights on a two-asset portfolio given the variance of Stock A, the variance of Stock B, and the correlation between Stocks A and B. Create a function that takes in these values as arguments and returns the vector of optimal weights, i.e., \n",
    "\n",
    "$\\mathbf{x} = \\begin{bmatrix}\n",
    "x_A & x_B\n",
    "\\end{bmatrix}\n",
    "$\n",
    "\n",
    "\n",
    "Remember that the constraint in this problem is: $x_A + x_B = 1$\n",
    "\n"
   ]
  },
  {
   "cell_type": "markdown",
   "metadata": {},
   "source": [
    "## Hints\n",
    "\n",
    "### standard deviation\n",
    "standard deviation $\\sigma_A = \\sqrt(\\sigma^2_A)$, where $\\sigma^2_A$ is variance of $x_A$\n",
    "look at `np.sqrt()`\n",
    "\n",
    "### covariance\n",
    "correlation between the stocks is $\\rho_{A,B}$\n",
    "\n",
    "covariance between the stocks is $\\sigma_{A,B} = \\sigma_A \\times \\sigma_B \\times \\rho_{A,B}$\n",
    "\n",
    "### x vector\n",
    "create a vector of 2 x variables $\\mathbf{x} = \\begin{bmatrix}\n",
    "x_A & x_B\n",
    "\\end{bmatrix}\n",
    "$\n",
    "we can use `cvx.Variable(2)`\n",
    "\n",
    "### covariance matrix\n",
    "The covariance matrix $P = \n",
    "\\begin{bmatrix}\n",
    "\\sigma^2_A & \\sigma_{A,B} \\\\ \n",
    "\\sigma_{A,B} & \\sigma^2_B \n",
    "\\end{bmatrix}$\n",
    "\n",
    "We can create a 2 x 2 matrix using a 2-dimensional numpy array\n",
    "`np.array([[\"Cindy\", \"Liz\"],[\"Eddy\", \"Brok\"]])`\n",
    "\n",
    "### quadratic form\n",
    "We can write the portfolio variance $\\sigma^2_p = \\mathbf{x^T} \\mathbf{P} \\mathbf{x}$\n",
    "\n",
    "Recall that the $\\mathbf{x^T} \\mathbf{P} \\mathbf{x}$ is called the quadratic form.\n",
    "We can use the cvxpy function `quad_form(x,P)` to get the quadratic form.\n",
    "\n",
    "### objective function\n",
    "Next, we want to define the objective function.  In this case, we want to minimize something.  What do we want to minimize in this case?  We want to minimize the portfolio variance, which is defined by our quadratic form $\\mathbf{x^T} \\mathbf{P} \\mathbf{x}$\n",
    "\n",
    "We can find the objective function using cvxpy `objective = cvx.Minimize()`.  Can you guess what to pass into this function?\n",
    "\n",
    "\n",
    "### constraints\n",
    "We can also define our constraints in a list.  For example, if you wanted the $\\sum_{1}^{n}x = 1$, you could save a variable as `[sum(x)==1]`, where x was created using `cvx.Variable()`.\n",
    "\n",
    "### optimization\n",
    "So now that we have our objective function and constraints, we can solve for the values of $\\mathbf{x}$.\n",
    "cvxpy has the constructor `Problem(objective, constraints)`, which returns a `Problem` object.\n",
    "\n",
    "The `Problem` object has a function solve(), which returns the minimum of the solution.  In this case, this is the minimum variance of the portfolio.\n",
    "\n",
    "It also updates the vector $\\mathbf{x}$.\n",
    "\n",
    "We can check out the values of $x_A$ and $x_B$ that gave the minimum portfolio variance by using `x.value`"
   ]
  },
  {
   "cell_type": "code",
   "execution_count": 6,
   "metadata": {},
   "outputs": [
    {
     "name": "stdout",
     "output_type": "stream",
     "text": [
      "Tests Passed\n"
     ]
    }
   ],
   "source": [
    "import cvxpy as cvx\n",
    "import numpy as np\n",
    "\n",
    "def optimize_twoasset_portfolio(varA, varB, rAB):\n",
    "    \"\"\"Create a function that takes in the variance of Stock A, the variance of\n",
    "    Stock B, and the correlation between Stocks A and B as arguments and returns \n",
    "    the vector of optimal weights\n",
    "    \n",
    "    Parameters\n",
    "    ----------\n",
    "    varA : float\n",
    "        The variance of Stock A.\n",
    "        \n",
    "    varB : float\n",
    "        The variance of Stock B.    \n",
    "        \n",
    "    rAB : float\n",
    "        The correlation between Stocks A and B.\n",
    "        \n",
    "    Returns\n",
    "    -------\n",
    "    x : np.ndarray\n",
    "        A 2-element numpy ndarray containing the weights on Stocks A and B,\n",
    "        [x_A, x_B], that minimize the portfolio variance.\n",
    "    \n",
    "    \"\"\"\n",
    "    # TODO: Use cvxpy to determine the weights on the assets in a 2-asset\n",
    "    # portfolio that minimize portfolio variance.\n",
    "    \n",
    "    cov = (varA ** 0.5) * (varB ** 0.5) * rAB\n",
    "    \n",
    "    x = cvx.Variable(2) \n",
    "    \n",
    "    P = np.array([[varA, cov],[cov, varB]]) \n",
    "    \n",
    "    objective = cvx.Minimize(cvx.quad_form(x, P))\n",
    "    \n",
    "    constraints = [sum(x) == 1]\n",
    "    \n",
    "    problem = cvx.Problem(objective, constraints)\n",
    "    \n",
    "    min_value = problem.solve()\n",
    "    xA,xB = x.value\n",
    "    \n",
    "    return xA, xB\n",
    "\n",
    "quiz_tests.test_optimize_twoasset_portfolio(optimize_twoasset_portfolio)"
   ]
  },
  {
   "cell_type": "code",
   "execution_count": 7,
   "metadata": {},
   "outputs": [
    {
     "name": "stdout",
     "output_type": "stream",
     "text": [
      "Weight on Stock A: 0.281935\n",
      "Weight on Stock B: 0.718065\n"
     ]
    }
   ],
   "source": [
    "\"\"\"Test run optimize_twoasset_portfolio().\"\"\"\n",
    "xA,xB = optimize_twoasset_portfolio(0.1, 0.05, 0.25)\n",
    "print(\"Weight on Stock A: {:.6f}\".format(xA))\n",
    "print(\"Weight on Stock B: {:.6f}\".format(xB))"
   ]
  },
  {
   "cell_type": "markdown",
   "metadata": {},
   "source": [
    "If you're feeling stuck, you can check out the solution [here](m3l4_cvxpy_basic_solution.ipynb)"
   ]
  },
  {
   "cell_type": "code",
   "execution_count": null,
   "metadata": {},
   "outputs": [],
   "source": []
  }
 ],
 "metadata": {
  "kernelspec": {
   "display_name": "Python 3",
   "language": "python",
   "name": "python3"
  },
  "language_info": {
   "codemirror_mode": {
    "name": "ipython",
    "version": 3
   },
   "file_extension": ".py",
   "mimetype": "text/x-python",
   "name": "python",
   "nbconvert_exporter": "python",
   "pygments_lexer": "ipython3",
   "version": "3.6.3"
  }
 },
 "nbformat": 4,
 "nbformat_minor": 2
}
